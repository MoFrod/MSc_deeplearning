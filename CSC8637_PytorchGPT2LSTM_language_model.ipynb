{
  "nbformat": 4,
  "nbformat_minor": 0,
  "metadata": {
    "colab": {
      "provenance": [],
      "machine_shape": "hm",
      "gpuClass": "premium"
    },
    "kernelspec": {
      "name": "python3",
      "display_name": "Python 3"
    },
    "language_info": {
      "name": "python"
    },
    "accelerator": "GPU",
    "gpuClass": "premium",
    "widgets": {
      "application/vnd.jupyter.widget-state+json": {
        "7da84f68509449368c1a56fdda87ba29": {
          "model_module": "@jupyter-widgets/controls",
          "model_name": "HBoxModel",
          "model_module_version": "1.5.0",
          "state": {
            "_dom_classes": [],
            "_model_module": "@jupyter-widgets/controls",
            "_model_module_version": "1.5.0",
            "_model_name": "HBoxModel",
            "_view_count": null,
            "_view_module": "@jupyter-widgets/controls",
            "_view_module_version": "1.5.0",
            "_view_name": "HBoxView",
            "box_style": "",
            "children": [
              "IPY_MODEL_8a54cf5f3ac847d3acf3ef89d88a16ee",
              "IPY_MODEL_34c737ffc4b84ea6ae77756d6b13174d",
              "IPY_MODEL_27c41c3fa54b4867b7dc4ed4c93ff48b"
            ],
            "layout": "IPY_MODEL_0513d3eb18f94305b70035a025c78772"
          }
        },
        "8a54cf5f3ac847d3acf3ef89d88a16ee": {
          "model_module": "@jupyter-widgets/controls",
          "model_name": "HTMLModel",
          "model_module_version": "1.5.0",
          "state": {
            "_dom_classes": [],
            "_model_module": "@jupyter-widgets/controls",
            "_model_module_version": "1.5.0",
            "_model_name": "HTMLModel",
            "_view_count": null,
            "_view_module": "@jupyter-widgets/controls",
            "_view_module_version": "1.5.0",
            "_view_name": "HTMLView",
            "description": "",
            "description_tooltip": null,
            "layout": "IPY_MODEL_c13f33e3e4d541b4abe94791f92dda7c",
            "placeholder": "​",
            "style": "IPY_MODEL_49598de291a346e6b43a786d0d115cfb",
            "value": "Downloading (…)olve/main/vocab.json: 100%"
          }
        },
        "34c737ffc4b84ea6ae77756d6b13174d": {
          "model_module": "@jupyter-widgets/controls",
          "model_name": "FloatProgressModel",
          "model_module_version": "1.5.0",
          "state": {
            "_dom_classes": [],
            "_model_module": "@jupyter-widgets/controls",
            "_model_module_version": "1.5.0",
            "_model_name": "FloatProgressModel",
            "_view_count": null,
            "_view_module": "@jupyter-widgets/controls",
            "_view_module_version": "1.5.0",
            "_view_name": "ProgressView",
            "bar_style": "success",
            "description": "",
            "description_tooltip": null,
            "layout": "IPY_MODEL_7965c56406a24132a50180b159cfd82e",
            "max": 1042301,
            "min": 0,
            "orientation": "horizontal",
            "style": "IPY_MODEL_fa4b39e55cb943fdafe6e89c830b50f9",
            "value": 1042301
          }
        },
        "27c41c3fa54b4867b7dc4ed4c93ff48b": {
          "model_module": "@jupyter-widgets/controls",
          "model_name": "HTMLModel",
          "model_module_version": "1.5.0",
          "state": {
            "_dom_classes": [],
            "_model_module": "@jupyter-widgets/controls",
            "_model_module_version": "1.5.0",
            "_model_name": "HTMLModel",
            "_view_count": null,
            "_view_module": "@jupyter-widgets/controls",
            "_view_module_version": "1.5.0",
            "_view_name": "HTMLView",
            "description": "",
            "description_tooltip": null,
            "layout": "IPY_MODEL_c8e3c2cb6ff34b50a9d01cff6ce6510e",
            "placeholder": "​",
            "style": "IPY_MODEL_e21a2c1ec3ad420382b944f458fb268a",
            "value": " 1.04M/1.04M [00:01&lt;00:00, 925kB/s]"
          }
        },
        "0513d3eb18f94305b70035a025c78772": {
          "model_module": "@jupyter-widgets/base",
          "model_name": "LayoutModel",
          "model_module_version": "1.2.0",
          "state": {
            "_model_module": "@jupyter-widgets/base",
            "_model_module_version": "1.2.0",
            "_model_name": "LayoutModel",
            "_view_count": null,
            "_view_module": "@jupyter-widgets/base",
            "_view_module_version": "1.2.0",
            "_view_name": "LayoutView",
            "align_content": null,
            "align_items": null,
            "align_self": null,
            "border": null,
            "bottom": null,
            "display": null,
            "flex": null,
            "flex_flow": null,
            "grid_area": null,
            "grid_auto_columns": null,
            "grid_auto_flow": null,
            "grid_auto_rows": null,
            "grid_column": null,
            "grid_gap": null,
            "grid_row": null,
            "grid_template_areas": null,
            "grid_template_columns": null,
            "grid_template_rows": null,
            "height": null,
            "justify_content": null,
            "justify_items": null,
            "left": null,
            "margin": null,
            "max_height": null,
            "max_width": null,
            "min_height": null,
            "min_width": null,
            "object_fit": null,
            "object_position": null,
            "order": null,
            "overflow": null,
            "overflow_x": null,
            "overflow_y": null,
            "padding": null,
            "right": null,
            "top": null,
            "visibility": null,
            "width": null
          }
        },
        "c13f33e3e4d541b4abe94791f92dda7c": {
          "model_module": "@jupyter-widgets/base",
          "model_name": "LayoutModel",
          "model_module_version": "1.2.0",
          "state": {
            "_model_module": "@jupyter-widgets/base",
            "_model_module_version": "1.2.0",
            "_model_name": "LayoutModel",
            "_view_count": null,
            "_view_module": "@jupyter-widgets/base",
            "_view_module_version": "1.2.0",
            "_view_name": "LayoutView",
            "align_content": null,
            "align_items": null,
            "align_self": null,
            "border": null,
            "bottom": null,
            "display": null,
            "flex": null,
            "flex_flow": null,
            "grid_area": null,
            "grid_auto_columns": null,
            "grid_auto_flow": null,
            "grid_auto_rows": null,
            "grid_column": null,
            "grid_gap": null,
            "grid_row": null,
            "grid_template_areas": null,
            "grid_template_columns": null,
            "grid_template_rows": null,
            "height": null,
            "justify_content": null,
            "justify_items": null,
            "left": null,
            "margin": null,
            "max_height": null,
            "max_width": null,
            "min_height": null,
            "min_width": null,
            "object_fit": null,
            "object_position": null,
            "order": null,
            "overflow": null,
            "overflow_x": null,
            "overflow_y": null,
            "padding": null,
            "right": null,
            "top": null,
            "visibility": null,
            "width": null
          }
        },
        "49598de291a346e6b43a786d0d115cfb": {
          "model_module": "@jupyter-widgets/controls",
          "model_name": "DescriptionStyleModel",
          "model_module_version": "1.5.0",
          "state": {
            "_model_module": "@jupyter-widgets/controls",
            "_model_module_version": "1.5.0",
            "_model_name": "DescriptionStyleModel",
            "_view_count": null,
            "_view_module": "@jupyter-widgets/base",
            "_view_module_version": "1.2.0",
            "_view_name": "StyleView",
            "description_width": ""
          }
        },
        "7965c56406a24132a50180b159cfd82e": {
          "model_module": "@jupyter-widgets/base",
          "model_name": "LayoutModel",
          "model_module_version": "1.2.0",
          "state": {
            "_model_module": "@jupyter-widgets/base",
            "_model_module_version": "1.2.0",
            "_model_name": "LayoutModel",
            "_view_count": null,
            "_view_module": "@jupyter-widgets/base",
            "_view_module_version": "1.2.0",
            "_view_name": "LayoutView",
            "align_content": null,
            "align_items": null,
            "align_self": null,
            "border": null,
            "bottom": null,
            "display": null,
            "flex": null,
            "flex_flow": null,
            "grid_area": null,
            "grid_auto_columns": null,
            "grid_auto_flow": null,
            "grid_auto_rows": null,
            "grid_column": null,
            "grid_gap": null,
            "grid_row": null,
            "grid_template_areas": null,
            "grid_template_columns": null,
            "grid_template_rows": null,
            "height": null,
            "justify_content": null,
            "justify_items": null,
            "left": null,
            "margin": null,
            "max_height": null,
            "max_width": null,
            "min_height": null,
            "min_width": null,
            "object_fit": null,
            "object_position": null,
            "order": null,
            "overflow": null,
            "overflow_x": null,
            "overflow_y": null,
            "padding": null,
            "right": null,
            "top": null,
            "visibility": null,
            "width": null
          }
        },
        "fa4b39e55cb943fdafe6e89c830b50f9": {
          "model_module": "@jupyter-widgets/controls",
          "model_name": "ProgressStyleModel",
          "model_module_version": "1.5.0",
          "state": {
            "_model_module": "@jupyter-widgets/controls",
            "_model_module_version": "1.5.0",
            "_model_name": "ProgressStyleModel",
            "_view_count": null,
            "_view_module": "@jupyter-widgets/base",
            "_view_module_version": "1.2.0",
            "_view_name": "StyleView",
            "bar_color": null,
            "description_width": ""
          }
        },
        "c8e3c2cb6ff34b50a9d01cff6ce6510e": {
          "model_module": "@jupyter-widgets/base",
          "model_name": "LayoutModel",
          "model_module_version": "1.2.0",
          "state": {
            "_model_module": "@jupyter-widgets/base",
            "_model_module_version": "1.2.0",
            "_model_name": "LayoutModel",
            "_view_count": null,
            "_view_module": "@jupyter-widgets/base",
            "_view_module_version": "1.2.0",
            "_view_name": "LayoutView",
            "align_content": null,
            "align_items": null,
            "align_self": null,
            "border": null,
            "bottom": null,
            "display": null,
            "flex": null,
            "flex_flow": null,
            "grid_area": null,
            "grid_auto_columns": null,
            "grid_auto_flow": null,
            "grid_auto_rows": null,
            "grid_column": null,
            "grid_gap": null,
            "grid_row": null,
            "grid_template_areas": null,
            "grid_template_columns": null,
            "grid_template_rows": null,
            "height": null,
            "justify_content": null,
            "justify_items": null,
            "left": null,
            "margin": null,
            "max_height": null,
            "max_width": null,
            "min_height": null,
            "min_width": null,
            "object_fit": null,
            "object_position": null,
            "order": null,
            "overflow": null,
            "overflow_x": null,
            "overflow_y": null,
            "padding": null,
            "right": null,
            "top": null,
            "visibility": null,
            "width": null
          }
        },
        "e21a2c1ec3ad420382b944f458fb268a": {
          "model_module": "@jupyter-widgets/controls",
          "model_name": "DescriptionStyleModel",
          "model_module_version": "1.5.0",
          "state": {
            "_model_module": "@jupyter-widgets/controls",
            "_model_module_version": "1.5.0",
            "_model_name": "DescriptionStyleModel",
            "_view_count": null,
            "_view_module": "@jupyter-widgets/base",
            "_view_module_version": "1.2.0",
            "_view_name": "StyleView",
            "description_width": ""
          }
        },
        "676bafbc409d424e894cd3dbc58fd6e8": {
          "model_module": "@jupyter-widgets/controls",
          "model_name": "HBoxModel",
          "model_module_version": "1.5.0",
          "state": {
            "_dom_classes": [],
            "_model_module": "@jupyter-widgets/controls",
            "_model_module_version": "1.5.0",
            "_model_name": "HBoxModel",
            "_view_count": null,
            "_view_module": "@jupyter-widgets/controls",
            "_view_module_version": "1.5.0",
            "_view_name": "HBoxView",
            "box_style": "",
            "children": [
              "IPY_MODEL_b7bbc076c33d4642bf0331194091b308",
              "IPY_MODEL_19bb48ab6a0647dfb0542d7d61541859",
              "IPY_MODEL_c1ab84f4651c4c4e88f2926ad7774bb2"
            ],
            "layout": "IPY_MODEL_f2f8fba4200844d4883d1169ba9f7be9"
          }
        },
        "b7bbc076c33d4642bf0331194091b308": {
          "model_module": "@jupyter-widgets/controls",
          "model_name": "HTMLModel",
          "model_module_version": "1.5.0",
          "state": {
            "_dom_classes": [],
            "_model_module": "@jupyter-widgets/controls",
            "_model_module_version": "1.5.0",
            "_model_name": "HTMLModel",
            "_view_count": null,
            "_view_module": "@jupyter-widgets/controls",
            "_view_module_version": "1.5.0",
            "_view_name": "HTMLView",
            "description": "",
            "description_tooltip": null,
            "layout": "IPY_MODEL_bbff86d8545c4e65bcf5e5d989711851",
            "placeholder": "​",
            "style": "IPY_MODEL_1eb0895e4f1544dba8d9beea0a7325dd",
            "value": "Downloading (…)olve/main/merges.txt: 100%"
          }
        },
        "19bb48ab6a0647dfb0542d7d61541859": {
          "model_module": "@jupyter-widgets/controls",
          "model_name": "FloatProgressModel",
          "model_module_version": "1.5.0",
          "state": {
            "_dom_classes": [],
            "_model_module": "@jupyter-widgets/controls",
            "_model_module_version": "1.5.0",
            "_model_name": "FloatProgressModel",
            "_view_count": null,
            "_view_module": "@jupyter-widgets/controls",
            "_view_module_version": "1.5.0",
            "_view_name": "ProgressView",
            "bar_style": "success",
            "description": "",
            "description_tooltip": null,
            "layout": "IPY_MODEL_5cd699e71aae4600864665334d53665b",
            "max": 456318,
            "min": 0,
            "orientation": "horizontal",
            "style": "IPY_MODEL_491e8a4e055f47339c00060c9e5a0041",
            "value": 456318
          }
        },
        "c1ab84f4651c4c4e88f2926ad7774bb2": {
          "model_module": "@jupyter-widgets/controls",
          "model_name": "HTMLModel",
          "model_module_version": "1.5.0",
          "state": {
            "_dom_classes": [],
            "_model_module": "@jupyter-widgets/controls",
            "_model_module_version": "1.5.0",
            "_model_name": "HTMLModel",
            "_view_count": null,
            "_view_module": "@jupyter-widgets/controls",
            "_view_module_version": "1.5.0",
            "_view_name": "HTMLView",
            "description": "",
            "description_tooltip": null,
            "layout": "IPY_MODEL_5fee715ad7ec4e8aa417c0780f40bef0",
            "placeholder": "​",
            "style": "IPY_MODEL_8573312a0ac34c3590dc47e9d2890206",
            "value": " 456k/456k [00:00&lt;00:00, 513kB/s]"
          }
        },
        "f2f8fba4200844d4883d1169ba9f7be9": {
          "model_module": "@jupyter-widgets/base",
          "model_name": "LayoutModel",
          "model_module_version": "1.2.0",
          "state": {
            "_model_module": "@jupyter-widgets/base",
            "_model_module_version": "1.2.0",
            "_model_name": "LayoutModel",
            "_view_count": null,
            "_view_module": "@jupyter-widgets/base",
            "_view_module_version": "1.2.0",
            "_view_name": "LayoutView",
            "align_content": null,
            "align_items": null,
            "align_self": null,
            "border": null,
            "bottom": null,
            "display": null,
            "flex": null,
            "flex_flow": null,
            "grid_area": null,
            "grid_auto_columns": null,
            "grid_auto_flow": null,
            "grid_auto_rows": null,
            "grid_column": null,
            "grid_gap": null,
            "grid_row": null,
            "grid_template_areas": null,
            "grid_template_columns": null,
            "grid_template_rows": null,
            "height": null,
            "justify_content": null,
            "justify_items": null,
            "left": null,
            "margin": null,
            "max_height": null,
            "max_width": null,
            "min_height": null,
            "min_width": null,
            "object_fit": null,
            "object_position": null,
            "order": null,
            "overflow": null,
            "overflow_x": null,
            "overflow_y": null,
            "padding": null,
            "right": null,
            "top": null,
            "visibility": null,
            "width": null
          }
        },
        "bbff86d8545c4e65bcf5e5d989711851": {
          "model_module": "@jupyter-widgets/base",
          "model_name": "LayoutModel",
          "model_module_version": "1.2.0",
          "state": {
            "_model_module": "@jupyter-widgets/base",
            "_model_module_version": "1.2.0",
            "_model_name": "LayoutModel",
            "_view_count": null,
            "_view_module": "@jupyter-widgets/base",
            "_view_module_version": "1.2.0",
            "_view_name": "LayoutView",
            "align_content": null,
            "align_items": null,
            "align_self": null,
            "border": null,
            "bottom": null,
            "display": null,
            "flex": null,
            "flex_flow": null,
            "grid_area": null,
            "grid_auto_columns": null,
            "grid_auto_flow": null,
            "grid_auto_rows": null,
            "grid_column": null,
            "grid_gap": null,
            "grid_row": null,
            "grid_template_areas": null,
            "grid_template_columns": null,
            "grid_template_rows": null,
            "height": null,
            "justify_content": null,
            "justify_items": null,
            "left": null,
            "margin": null,
            "max_height": null,
            "max_width": null,
            "min_height": null,
            "min_width": null,
            "object_fit": null,
            "object_position": null,
            "order": null,
            "overflow": null,
            "overflow_x": null,
            "overflow_y": null,
            "padding": null,
            "right": null,
            "top": null,
            "visibility": null,
            "width": null
          }
        },
        "1eb0895e4f1544dba8d9beea0a7325dd": {
          "model_module": "@jupyter-widgets/controls",
          "model_name": "DescriptionStyleModel",
          "model_module_version": "1.5.0",
          "state": {
            "_model_module": "@jupyter-widgets/controls",
            "_model_module_version": "1.5.0",
            "_model_name": "DescriptionStyleModel",
            "_view_count": null,
            "_view_module": "@jupyter-widgets/base",
            "_view_module_version": "1.2.0",
            "_view_name": "StyleView",
            "description_width": ""
          }
        },
        "5cd699e71aae4600864665334d53665b": {
          "model_module": "@jupyter-widgets/base",
          "model_name": "LayoutModel",
          "model_module_version": "1.2.0",
          "state": {
            "_model_module": "@jupyter-widgets/base",
            "_model_module_version": "1.2.0",
            "_model_name": "LayoutModel",
            "_view_count": null,
            "_view_module": "@jupyter-widgets/base",
            "_view_module_version": "1.2.0",
            "_view_name": "LayoutView",
            "align_content": null,
            "align_items": null,
            "align_self": null,
            "border": null,
            "bottom": null,
            "display": null,
            "flex": null,
            "flex_flow": null,
            "grid_area": null,
            "grid_auto_columns": null,
            "grid_auto_flow": null,
            "grid_auto_rows": null,
            "grid_column": null,
            "grid_gap": null,
            "grid_row": null,
            "grid_template_areas": null,
            "grid_template_columns": null,
            "grid_template_rows": null,
            "height": null,
            "justify_content": null,
            "justify_items": null,
            "left": null,
            "margin": null,
            "max_height": null,
            "max_width": null,
            "min_height": null,
            "min_width": null,
            "object_fit": null,
            "object_position": null,
            "order": null,
            "overflow": null,
            "overflow_x": null,
            "overflow_y": null,
            "padding": null,
            "right": null,
            "top": null,
            "visibility": null,
            "width": null
          }
        },
        "491e8a4e055f47339c00060c9e5a0041": {
          "model_module": "@jupyter-widgets/controls",
          "model_name": "ProgressStyleModel",
          "model_module_version": "1.5.0",
          "state": {
            "_model_module": "@jupyter-widgets/controls",
            "_model_module_version": "1.5.0",
            "_model_name": "ProgressStyleModel",
            "_view_count": null,
            "_view_module": "@jupyter-widgets/base",
            "_view_module_version": "1.2.0",
            "_view_name": "StyleView",
            "bar_color": null,
            "description_width": ""
          }
        },
        "5fee715ad7ec4e8aa417c0780f40bef0": {
          "model_module": "@jupyter-widgets/base",
          "model_name": "LayoutModel",
          "model_module_version": "1.2.0",
          "state": {
            "_model_module": "@jupyter-widgets/base",
            "_model_module_version": "1.2.0",
            "_model_name": "LayoutModel",
            "_view_count": null,
            "_view_module": "@jupyter-widgets/base",
            "_view_module_version": "1.2.0",
            "_view_name": "LayoutView",
            "align_content": null,
            "align_items": null,
            "align_self": null,
            "border": null,
            "bottom": null,
            "display": null,
            "flex": null,
            "flex_flow": null,
            "grid_area": null,
            "grid_auto_columns": null,
            "grid_auto_flow": null,
            "grid_auto_rows": null,
            "grid_column": null,
            "grid_gap": null,
            "grid_row": null,
            "grid_template_areas": null,
            "grid_template_columns": null,
            "grid_template_rows": null,
            "height": null,
            "justify_content": null,
            "justify_items": null,
            "left": null,
            "margin": null,
            "max_height": null,
            "max_width": null,
            "min_height": null,
            "min_width": null,
            "object_fit": null,
            "object_position": null,
            "order": null,
            "overflow": null,
            "overflow_x": null,
            "overflow_y": null,
            "padding": null,
            "right": null,
            "top": null,
            "visibility": null,
            "width": null
          }
        },
        "8573312a0ac34c3590dc47e9d2890206": {
          "model_module": "@jupyter-widgets/controls",
          "model_name": "DescriptionStyleModel",
          "model_module_version": "1.5.0",
          "state": {
            "_model_module": "@jupyter-widgets/controls",
            "_model_module_version": "1.5.0",
            "_model_name": "DescriptionStyleModel",
            "_view_count": null,
            "_view_module": "@jupyter-widgets/base",
            "_view_module_version": "1.2.0",
            "_view_name": "StyleView",
            "description_width": ""
          }
        },
        "6697c596a7db4763907c8868653985b8": {
          "model_module": "@jupyter-widgets/controls",
          "model_name": "HBoxModel",
          "model_module_version": "1.5.0",
          "state": {
            "_dom_classes": [],
            "_model_module": "@jupyter-widgets/controls",
            "_model_module_version": "1.5.0",
            "_model_name": "HBoxModel",
            "_view_count": null,
            "_view_module": "@jupyter-widgets/controls",
            "_view_module_version": "1.5.0",
            "_view_name": "HBoxView",
            "box_style": "",
            "children": [
              "IPY_MODEL_b0d9e58fd05547eb8092554238445496",
              "IPY_MODEL_45a910b8374b4263aeef71089e3bb729",
              "IPY_MODEL_884535d3bda74fa2b54d0fe7e7f0b3fb"
            ],
            "layout": "IPY_MODEL_05fb9e3ab79647a48d2883bbe3db4470"
          }
        },
        "b0d9e58fd05547eb8092554238445496": {
          "model_module": "@jupyter-widgets/controls",
          "model_name": "HTMLModel",
          "model_module_version": "1.5.0",
          "state": {
            "_dom_classes": [],
            "_model_module": "@jupyter-widgets/controls",
            "_model_module_version": "1.5.0",
            "_model_name": "HTMLModel",
            "_view_count": null,
            "_view_module": "@jupyter-widgets/controls",
            "_view_module_version": "1.5.0",
            "_view_name": "HTMLView",
            "description": "",
            "description_tooltip": null,
            "layout": "IPY_MODEL_9d67016e6be0462d8741f48eb67885b6",
            "placeholder": "​",
            "style": "IPY_MODEL_326e87a92ebd42b9aff74f28e60c867c",
            "value": "Downloading (…)lve/main/config.json: 100%"
          }
        },
        "45a910b8374b4263aeef71089e3bb729": {
          "model_module": "@jupyter-widgets/controls",
          "model_name": "FloatProgressModel",
          "model_module_version": "1.5.0",
          "state": {
            "_dom_classes": [],
            "_model_module": "@jupyter-widgets/controls",
            "_model_module_version": "1.5.0",
            "_model_name": "FloatProgressModel",
            "_view_count": null,
            "_view_module": "@jupyter-widgets/controls",
            "_view_module_version": "1.5.0",
            "_view_name": "ProgressView",
            "bar_style": "success",
            "description": "",
            "description_tooltip": null,
            "layout": "IPY_MODEL_99b8f01ad4f140baa1ae2b4e64ef89f2",
            "max": 665,
            "min": 0,
            "orientation": "horizontal",
            "style": "IPY_MODEL_3bf0f8876feb400d9499960e43154887",
            "value": 665
          }
        },
        "884535d3bda74fa2b54d0fe7e7f0b3fb": {
          "model_module": "@jupyter-widgets/controls",
          "model_name": "HTMLModel",
          "model_module_version": "1.5.0",
          "state": {
            "_dom_classes": [],
            "_model_module": "@jupyter-widgets/controls",
            "_model_module_version": "1.5.0",
            "_model_name": "HTMLModel",
            "_view_count": null,
            "_view_module": "@jupyter-widgets/controls",
            "_view_module_version": "1.5.0",
            "_view_name": "HTMLView",
            "description": "",
            "description_tooltip": null,
            "layout": "IPY_MODEL_8dcd08f85c2f4a5198dae758cc100d83",
            "placeholder": "​",
            "style": "IPY_MODEL_d161fceb155e415ca7659e1072098a1c",
            "value": " 665/665 [00:00&lt;00:00, 37.8kB/s]"
          }
        },
        "05fb9e3ab79647a48d2883bbe3db4470": {
          "model_module": "@jupyter-widgets/base",
          "model_name": "LayoutModel",
          "model_module_version": "1.2.0",
          "state": {
            "_model_module": "@jupyter-widgets/base",
            "_model_module_version": "1.2.0",
            "_model_name": "LayoutModel",
            "_view_count": null,
            "_view_module": "@jupyter-widgets/base",
            "_view_module_version": "1.2.0",
            "_view_name": "LayoutView",
            "align_content": null,
            "align_items": null,
            "align_self": null,
            "border": null,
            "bottom": null,
            "display": null,
            "flex": null,
            "flex_flow": null,
            "grid_area": null,
            "grid_auto_columns": null,
            "grid_auto_flow": null,
            "grid_auto_rows": null,
            "grid_column": null,
            "grid_gap": null,
            "grid_row": null,
            "grid_template_areas": null,
            "grid_template_columns": null,
            "grid_template_rows": null,
            "height": null,
            "justify_content": null,
            "justify_items": null,
            "left": null,
            "margin": null,
            "max_height": null,
            "max_width": null,
            "min_height": null,
            "min_width": null,
            "object_fit": null,
            "object_position": null,
            "order": null,
            "overflow": null,
            "overflow_x": null,
            "overflow_y": null,
            "padding": null,
            "right": null,
            "top": null,
            "visibility": null,
            "width": null
          }
        },
        "9d67016e6be0462d8741f48eb67885b6": {
          "model_module": "@jupyter-widgets/base",
          "model_name": "LayoutModel",
          "model_module_version": "1.2.0",
          "state": {
            "_model_module": "@jupyter-widgets/base",
            "_model_module_version": "1.2.0",
            "_model_name": "LayoutModel",
            "_view_count": null,
            "_view_module": "@jupyter-widgets/base",
            "_view_module_version": "1.2.0",
            "_view_name": "LayoutView",
            "align_content": null,
            "align_items": null,
            "align_self": null,
            "border": null,
            "bottom": null,
            "display": null,
            "flex": null,
            "flex_flow": null,
            "grid_area": null,
            "grid_auto_columns": null,
            "grid_auto_flow": null,
            "grid_auto_rows": null,
            "grid_column": null,
            "grid_gap": null,
            "grid_row": null,
            "grid_template_areas": null,
            "grid_template_columns": null,
            "grid_template_rows": null,
            "height": null,
            "justify_content": null,
            "justify_items": null,
            "left": null,
            "margin": null,
            "max_height": null,
            "max_width": null,
            "min_height": null,
            "min_width": null,
            "object_fit": null,
            "object_position": null,
            "order": null,
            "overflow": null,
            "overflow_x": null,
            "overflow_y": null,
            "padding": null,
            "right": null,
            "top": null,
            "visibility": null,
            "width": null
          }
        },
        "326e87a92ebd42b9aff74f28e60c867c": {
          "model_module": "@jupyter-widgets/controls",
          "model_name": "DescriptionStyleModel",
          "model_module_version": "1.5.0",
          "state": {
            "_model_module": "@jupyter-widgets/controls",
            "_model_module_version": "1.5.0",
            "_model_name": "DescriptionStyleModel",
            "_view_count": null,
            "_view_module": "@jupyter-widgets/base",
            "_view_module_version": "1.2.0",
            "_view_name": "StyleView",
            "description_width": ""
          }
        },
        "99b8f01ad4f140baa1ae2b4e64ef89f2": {
          "model_module": "@jupyter-widgets/base",
          "model_name": "LayoutModel",
          "model_module_version": "1.2.0",
          "state": {
            "_model_module": "@jupyter-widgets/base",
            "_model_module_version": "1.2.0",
            "_model_name": "LayoutModel",
            "_view_count": null,
            "_view_module": "@jupyter-widgets/base",
            "_view_module_version": "1.2.0",
            "_view_name": "LayoutView",
            "align_content": null,
            "align_items": null,
            "align_self": null,
            "border": null,
            "bottom": null,
            "display": null,
            "flex": null,
            "flex_flow": null,
            "grid_area": null,
            "grid_auto_columns": null,
            "grid_auto_flow": null,
            "grid_auto_rows": null,
            "grid_column": null,
            "grid_gap": null,
            "grid_row": null,
            "grid_template_areas": null,
            "grid_template_columns": null,
            "grid_template_rows": null,
            "height": null,
            "justify_content": null,
            "justify_items": null,
            "left": null,
            "margin": null,
            "max_height": null,
            "max_width": null,
            "min_height": null,
            "min_width": null,
            "object_fit": null,
            "object_position": null,
            "order": null,
            "overflow": null,
            "overflow_x": null,
            "overflow_y": null,
            "padding": null,
            "right": null,
            "top": null,
            "visibility": null,
            "width": null
          }
        },
        "3bf0f8876feb400d9499960e43154887": {
          "model_module": "@jupyter-widgets/controls",
          "model_name": "ProgressStyleModel",
          "model_module_version": "1.5.0",
          "state": {
            "_model_module": "@jupyter-widgets/controls",
            "_model_module_version": "1.5.0",
            "_model_name": "ProgressStyleModel",
            "_view_count": null,
            "_view_module": "@jupyter-widgets/base",
            "_view_module_version": "1.2.0",
            "_view_name": "StyleView",
            "bar_color": null,
            "description_width": ""
          }
        },
        "8dcd08f85c2f4a5198dae758cc100d83": {
          "model_module": "@jupyter-widgets/base",
          "model_name": "LayoutModel",
          "model_module_version": "1.2.0",
          "state": {
            "_model_module": "@jupyter-widgets/base",
            "_model_module_version": "1.2.0",
            "_model_name": "LayoutModel",
            "_view_count": null,
            "_view_module": "@jupyter-widgets/base",
            "_view_module_version": "1.2.0",
            "_view_name": "LayoutView",
            "align_content": null,
            "align_items": null,
            "align_self": null,
            "border": null,
            "bottom": null,
            "display": null,
            "flex": null,
            "flex_flow": null,
            "grid_area": null,
            "grid_auto_columns": null,
            "grid_auto_flow": null,
            "grid_auto_rows": null,
            "grid_column": null,
            "grid_gap": null,
            "grid_row": null,
            "grid_template_areas": null,
            "grid_template_columns": null,
            "grid_template_rows": null,
            "height": null,
            "justify_content": null,
            "justify_items": null,
            "left": null,
            "margin": null,
            "max_height": null,
            "max_width": null,
            "min_height": null,
            "min_width": null,
            "object_fit": null,
            "object_position": null,
            "order": null,
            "overflow": null,
            "overflow_x": null,
            "overflow_y": null,
            "padding": null,
            "right": null,
            "top": null,
            "visibility": null,
            "width": null
          }
        },
        "d161fceb155e415ca7659e1072098a1c": {
          "model_module": "@jupyter-widgets/controls",
          "model_name": "DescriptionStyleModel",
          "model_module_version": "1.5.0",
          "state": {
            "_model_module": "@jupyter-widgets/controls",
            "_model_module_version": "1.5.0",
            "_model_name": "DescriptionStyleModel",
            "_view_count": null,
            "_view_module": "@jupyter-widgets/base",
            "_view_module_version": "1.2.0",
            "_view_name": "StyleView",
            "description_width": ""
          }
        },
        "a1389edf35ee488597ace3b0256a280f": {
          "model_module": "@jupyter-widgets/controls",
          "model_name": "HBoxModel",
          "model_module_version": "1.5.0",
          "state": {
            "_dom_classes": [],
            "_model_module": "@jupyter-widgets/controls",
            "_model_module_version": "1.5.0",
            "_model_name": "HBoxModel",
            "_view_count": null,
            "_view_module": "@jupyter-widgets/controls",
            "_view_module_version": "1.5.0",
            "_view_name": "HBoxView",
            "box_style": "",
            "children": [
              "IPY_MODEL_3f204c5f798445dd8f3684f2b5ac847e",
              "IPY_MODEL_b5bd943e67ee4b1e857aa284dfd5d9c0",
              "IPY_MODEL_76c7fea885e64c0dadb49d20f4f9e325"
            ],
            "layout": "IPY_MODEL_613f9322f3bd45b7bd77355ccc88657c"
          }
        },
        "3f204c5f798445dd8f3684f2b5ac847e": {
          "model_module": "@jupyter-widgets/controls",
          "model_name": "HTMLModel",
          "model_module_version": "1.5.0",
          "state": {
            "_dom_classes": [],
            "_model_module": "@jupyter-widgets/controls",
            "_model_module_version": "1.5.0",
            "_model_name": "HTMLModel",
            "_view_count": null,
            "_view_module": "@jupyter-widgets/controls",
            "_view_module_version": "1.5.0",
            "_view_name": "HTMLView",
            "description": "",
            "description_tooltip": null,
            "layout": "IPY_MODEL_2a23b8285a034e8ab017c03dd3294357",
            "placeholder": "​",
            "style": "IPY_MODEL_426c10005d544e46a6c90e962a7e0f7d",
            "value": "Downloading (…)lve/main/config.json: 100%"
          }
        },
        "b5bd943e67ee4b1e857aa284dfd5d9c0": {
          "model_module": "@jupyter-widgets/controls",
          "model_name": "FloatProgressModel",
          "model_module_version": "1.5.0",
          "state": {
            "_dom_classes": [],
            "_model_module": "@jupyter-widgets/controls",
            "_model_module_version": "1.5.0",
            "_model_name": "FloatProgressModel",
            "_view_count": null,
            "_view_module": "@jupyter-widgets/controls",
            "_view_module_version": "1.5.0",
            "_view_name": "ProgressView",
            "bar_style": "success",
            "description": "",
            "description_tooltip": null,
            "layout": "IPY_MODEL_deca504b28ea4be6ab111ace5a9e7996",
            "max": 665,
            "min": 0,
            "orientation": "horizontal",
            "style": "IPY_MODEL_d93dbaa8b4f84a4085a2aeaa30ce585c",
            "value": 665
          }
        },
        "76c7fea885e64c0dadb49d20f4f9e325": {
          "model_module": "@jupyter-widgets/controls",
          "model_name": "HTMLModel",
          "model_module_version": "1.5.0",
          "state": {
            "_dom_classes": [],
            "_model_module": "@jupyter-widgets/controls",
            "_model_module_version": "1.5.0",
            "_model_name": "HTMLModel",
            "_view_count": null,
            "_view_module": "@jupyter-widgets/controls",
            "_view_module_version": "1.5.0",
            "_view_name": "HTMLView",
            "description": "",
            "description_tooltip": null,
            "layout": "IPY_MODEL_e13ec2b87b26425ba15b495a141d9fdd",
            "placeholder": "​",
            "style": "IPY_MODEL_a20dc0005a59456f989ff87148d206b5",
            "value": " 665/665 [00:00&lt;00:00, 5.79kB/s]"
          }
        },
        "613f9322f3bd45b7bd77355ccc88657c": {
          "model_module": "@jupyter-widgets/base",
          "model_name": "LayoutModel",
          "model_module_version": "1.2.0",
          "state": {
            "_model_module": "@jupyter-widgets/base",
            "_model_module_version": "1.2.0",
            "_model_name": "LayoutModel",
            "_view_count": null,
            "_view_module": "@jupyter-widgets/base",
            "_view_module_version": "1.2.0",
            "_view_name": "LayoutView",
            "align_content": null,
            "align_items": null,
            "align_self": null,
            "border": null,
            "bottom": null,
            "display": null,
            "flex": null,
            "flex_flow": null,
            "grid_area": null,
            "grid_auto_columns": null,
            "grid_auto_flow": null,
            "grid_auto_rows": null,
            "grid_column": null,
            "grid_gap": null,
            "grid_row": null,
            "grid_template_areas": null,
            "grid_template_columns": null,
            "grid_template_rows": null,
            "height": null,
            "justify_content": null,
            "justify_items": null,
            "left": null,
            "margin": null,
            "max_height": null,
            "max_width": null,
            "min_height": null,
            "min_width": null,
            "object_fit": null,
            "object_position": null,
            "order": null,
            "overflow": null,
            "overflow_x": null,
            "overflow_y": null,
            "padding": null,
            "right": null,
            "top": null,
            "visibility": null,
            "width": null
          }
        },
        "2a23b8285a034e8ab017c03dd3294357": {
          "model_module": "@jupyter-widgets/base",
          "model_name": "LayoutModel",
          "model_module_version": "1.2.0",
          "state": {
            "_model_module": "@jupyter-widgets/base",
            "_model_module_version": "1.2.0",
            "_model_name": "LayoutModel",
            "_view_count": null,
            "_view_module": "@jupyter-widgets/base",
            "_view_module_version": "1.2.0",
            "_view_name": "LayoutView",
            "align_content": null,
            "align_items": null,
            "align_self": null,
            "border": null,
            "bottom": null,
            "display": null,
            "flex": null,
            "flex_flow": null,
            "grid_area": null,
            "grid_auto_columns": null,
            "grid_auto_flow": null,
            "grid_auto_rows": null,
            "grid_column": null,
            "grid_gap": null,
            "grid_row": null,
            "grid_template_areas": null,
            "grid_template_columns": null,
            "grid_template_rows": null,
            "height": null,
            "justify_content": null,
            "justify_items": null,
            "left": null,
            "margin": null,
            "max_height": null,
            "max_width": null,
            "min_height": null,
            "min_width": null,
            "object_fit": null,
            "object_position": null,
            "order": null,
            "overflow": null,
            "overflow_x": null,
            "overflow_y": null,
            "padding": null,
            "right": null,
            "top": null,
            "visibility": null,
            "width": null
          }
        },
        "426c10005d544e46a6c90e962a7e0f7d": {
          "model_module": "@jupyter-widgets/controls",
          "model_name": "DescriptionStyleModel",
          "model_module_version": "1.5.0",
          "state": {
            "_model_module": "@jupyter-widgets/controls",
            "_model_module_version": "1.5.0",
            "_model_name": "DescriptionStyleModel",
            "_view_count": null,
            "_view_module": "@jupyter-widgets/base",
            "_view_module_version": "1.2.0",
            "_view_name": "StyleView",
            "description_width": ""
          }
        },
        "deca504b28ea4be6ab111ace5a9e7996": {
          "model_module": "@jupyter-widgets/base",
          "model_name": "LayoutModel",
          "model_module_version": "1.2.0",
          "state": {
            "_model_module": "@jupyter-widgets/base",
            "_model_module_version": "1.2.0",
            "_model_name": "LayoutModel",
            "_view_count": null,
            "_view_module": "@jupyter-widgets/base",
            "_view_module_version": "1.2.0",
            "_view_name": "LayoutView",
            "align_content": null,
            "align_items": null,
            "align_self": null,
            "border": null,
            "bottom": null,
            "display": null,
            "flex": null,
            "flex_flow": null,
            "grid_area": null,
            "grid_auto_columns": null,
            "grid_auto_flow": null,
            "grid_auto_rows": null,
            "grid_column": null,
            "grid_gap": null,
            "grid_row": null,
            "grid_template_areas": null,
            "grid_template_columns": null,
            "grid_template_rows": null,
            "height": null,
            "justify_content": null,
            "justify_items": null,
            "left": null,
            "margin": null,
            "max_height": null,
            "max_width": null,
            "min_height": null,
            "min_width": null,
            "object_fit": null,
            "object_position": null,
            "order": null,
            "overflow": null,
            "overflow_x": null,
            "overflow_y": null,
            "padding": null,
            "right": null,
            "top": null,
            "visibility": null,
            "width": null
          }
        },
        "d93dbaa8b4f84a4085a2aeaa30ce585c": {
          "model_module": "@jupyter-widgets/controls",
          "model_name": "ProgressStyleModel",
          "model_module_version": "1.5.0",
          "state": {
            "_model_module": "@jupyter-widgets/controls",
            "_model_module_version": "1.5.0",
            "_model_name": "ProgressStyleModel",
            "_view_count": null,
            "_view_module": "@jupyter-widgets/base",
            "_view_module_version": "1.2.0",
            "_view_name": "StyleView",
            "bar_color": null,
            "description_width": ""
          }
        },
        "e13ec2b87b26425ba15b495a141d9fdd": {
          "model_module": "@jupyter-widgets/base",
          "model_name": "LayoutModel",
          "model_module_version": "1.2.0",
          "state": {
            "_model_module": "@jupyter-widgets/base",
            "_model_module_version": "1.2.0",
            "_model_name": "LayoutModel",
            "_view_count": null,
            "_view_module": "@jupyter-widgets/base",
            "_view_module_version": "1.2.0",
            "_view_name": "LayoutView",
            "align_content": null,
            "align_items": null,
            "align_self": null,
            "border": null,
            "bottom": null,
            "display": null,
            "flex": null,
            "flex_flow": null,
            "grid_area": null,
            "grid_auto_columns": null,
            "grid_auto_flow": null,
            "grid_auto_rows": null,
            "grid_column": null,
            "grid_gap": null,
            "grid_row": null,
            "grid_template_areas": null,
            "grid_template_columns": null,
            "grid_template_rows": null,
            "height": null,
            "justify_content": null,
            "justify_items": null,
            "left": null,
            "margin": null,
            "max_height": null,
            "max_width": null,
            "min_height": null,
            "min_width": null,
            "object_fit": null,
            "object_position": null,
            "order": null,
            "overflow": null,
            "overflow_x": null,
            "overflow_y": null,
            "padding": null,
            "right": null,
            "top": null,
            "visibility": null,
            "width": null
          }
        },
        "a20dc0005a59456f989ff87148d206b5": {
          "model_module": "@jupyter-widgets/controls",
          "model_name": "DescriptionStyleModel",
          "model_module_version": "1.5.0",
          "state": {
            "_model_module": "@jupyter-widgets/controls",
            "_model_module_version": "1.5.0",
            "_model_name": "DescriptionStyleModel",
            "_view_count": null,
            "_view_module": "@jupyter-widgets/base",
            "_view_module_version": "1.2.0",
            "_view_name": "StyleView",
            "description_width": ""
          }
        },
        "f842ed6fa3634881a2ce0f6f52e25eff": {
          "model_module": "@jupyter-widgets/controls",
          "model_name": "HBoxModel",
          "model_module_version": "1.5.0",
          "state": {
            "_dom_classes": [],
            "_model_module": "@jupyter-widgets/controls",
            "_model_module_version": "1.5.0",
            "_model_name": "HBoxModel",
            "_view_count": null,
            "_view_module": "@jupyter-widgets/controls",
            "_view_module_version": "1.5.0",
            "_view_name": "HBoxView",
            "box_style": "",
            "children": [
              "IPY_MODEL_32208b1209a44dc580d423f49d39f0ff",
              "IPY_MODEL_0e98dfc1a29247798854beaac0b6d08e",
              "IPY_MODEL_8093f8b8b8a142f6aab27980875ace9a"
            ],
            "layout": "IPY_MODEL_d7a03242ca824ce5a87f1573cf069e44"
          }
        },
        "32208b1209a44dc580d423f49d39f0ff": {
          "model_module": "@jupyter-widgets/controls",
          "model_name": "HTMLModel",
          "model_module_version": "1.5.0",
          "state": {
            "_dom_classes": [],
            "_model_module": "@jupyter-widgets/controls",
            "_model_module_version": "1.5.0",
            "_model_name": "HTMLModel",
            "_view_count": null,
            "_view_module": "@jupyter-widgets/controls",
            "_view_module_version": "1.5.0",
            "_view_name": "HTMLView",
            "description": "",
            "description_tooltip": null,
            "layout": "IPY_MODEL_78c1b9b34feb4c38b69be88477cd289c",
            "placeholder": "​",
            "style": "IPY_MODEL_0959eac36fd849bb99c6cd206d30272a",
            "value": "Downloading (…)olve/main/vocab.json: 100%"
          }
        },
        "0e98dfc1a29247798854beaac0b6d08e": {
          "model_module": "@jupyter-widgets/controls",
          "model_name": "FloatProgressModel",
          "model_module_version": "1.5.0",
          "state": {
            "_dom_classes": [],
            "_model_module": "@jupyter-widgets/controls",
            "_model_module_version": "1.5.0",
            "_model_name": "FloatProgressModel",
            "_view_count": null,
            "_view_module": "@jupyter-widgets/controls",
            "_view_module_version": "1.5.0",
            "_view_name": "ProgressView",
            "bar_style": "success",
            "description": "",
            "description_tooltip": null,
            "layout": "IPY_MODEL_a0aa0a3ac45e41128fb2749dc60186d3",
            "max": 1042301,
            "min": 0,
            "orientation": "horizontal",
            "style": "IPY_MODEL_fcdda504bd9e48759092923c3b639fd9",
            "value": 1042301
          }
        },
        "8093f8b8b8a142f6aab27980875ace9a": {
          "model_module": "@jupyter-widgets/controls",
          "model_name": "HTMLModel",
          "model_module_version": "1.5.0",
          "state": {
            "_dom_classes": [],
            "_model_module": "@jupyter-widgets/controls",
            "_model_module_version": "1.5.0",
            "_model_name": "HTMLModel",
            "_view_count": null,
            "_view_module": "@jupyter-widgets/controls",
            "_view_module_version": "1.5.0",
            "_view_name": "HTMLView",
            "description": "",
            "description_tooltip": null,
            "layout": "IPY_MODEL_6d363b922571411a91e6f9cc7eb37a76",
            "placeholder": "​",
            "style": "IPY_MODEL_9715d5b0de7b48fdb6f556ddcb4d1173",
            "value": " 1.04M/1.04M [00:00&lt;00:00, 2.68MB/s]"
          }
        },
        "d7a03242ca824ce5a87f1573cf069e44": {
          "model_module": "@jupyter-widgets/base",
          "model_name": "LayoutModel",
          "model_module_version": "1.2.0",
          "state": {
            "_model_module": "@jupyter-widgets/base",
            "_model_module_version": "1.2.0",
            "_model_name": "LayoutModel",
            "_view_count": null,
            "_view_module": "@jupyter-widgets/base",
            "_view_module_version": "1.2.0",
            "_view_name": "LayoutView",
            "align_content": null,
            "align_items": null,
            "align_self": null,
            "border": null,
            "bottom": null,
            "display": null,
            "flex": null,
            "flex_flow": null,
            "grid_area": null,
            "grid_auto_columns": null,
            "grid_auto_flow": null,
            "grid_auto_rows": null,
            "grid_column": null,
            "grid_gap": null,
            "grid_row": null,
            "grid_template_areas": null,
            "grid_template_columns": null,
            "grid_template_rows": null,
            "height": null,
            "justify_content": null,
            "justify_items": null,
            "left": null,
            "margin": null,
            "max_height": null,
            "max_width": null,
            "min_height": null,
            "min_width": null,
            "object_fit": null,
            "object_position": null,
            "order": null,
            "overflow": null,
            "overflow_x": null,
            "overflow_y": null,
            "padding": null,
            "right": null,
            "top": null,
            "visibility": null,
            "width": null
          }
        },
        "78c1b9b34feb4c38b69be88477cd289c": {
          "model_module": "@jupyter-widgets/base",
          "model_name": "LayoutModel",
          "model_module_version": "1.2.0",
          "state": {
            "_model_module": "@jupyter-widgets/base",
            "_model_module_version": "1.2.0",
            "_model_name": "LayoutModel",
            "_view_count": null,
            "_view_module": "@jupyter-widgets/base",
            "_view_module_version": "1.2.0",
            "_view_name": "LayoutView",
            "align_content": null,
            "align_items": null,
            "align_self": null,
            "border": null,
            "bottom": null,
            "display": null,
            "flex": null,
            "flex_flow": null,
            "grid_area": null,
            "grid_auto_columns": null,
            "grid_auto_flow": null,
            "grid_auto_rows": null,
            "grid_column": null,
            "grid_gap": null,
            "grid_row": null,
            "grid_template_areas": null,
            "grid_template_columns": null,
            "grid_template_rows": null,
            "height": null,
            "justify_content": null,
            "justify_items": null,
            "left": null,
            "margin": null,
            "max_height": null,
            "max_width": null,
            "min_height": null,
            "min_width": null,
            "object_fit": null,
            "object_position": null,
            "order": null,
            "overflow": null,
            "overflow_x": null,
            "overflow_y": null,
            "padding": null,
            "right": null,
            "top": null,
            "visibility": null,
            "width": null
          }
        },
        "0959eac36fd849bb99c6cd206d30272a": {
          "model_module": "@jupyter-widgets/controls",
          "model_name": "DescriptionStyleModel",
          "model_module_version": "1.5.0",
          "state": {
            "_model_module": "@jupyter-widgets/controls",
            "_model_module_version": "1.5.0",
            "_model_name": "DescriptionStyleModel",
            "_view_count": null,
            "_view_module": "@jupyter-widgets/base",
            "_view_module_version": "1.2.0",
            "_view_name": "StyleView",
            "description_width": ""
          }
        },
        "a0aa0a3ac45e41128fb2749dc60186d3": {
          "model_module": "@jupyter-widgets/base",
          "model_name": "LayoutModel",
          "model_module_version": "1.2.0",
          "state": {
            "_model_module": "@jupyter-widgets/base",
            "_model_module_version": "1.2.0",
            "_model_name": "LayoutModel",
            "_view_count": null,
            "_view_module": "@jupyter-widgets/base",
            "_view_module_version": "1.2.0",
            "_view_name": "LayoutView",
            "align_content": null,
            "align_items": null,
            "align_self": null,
            "border": null,
            "bottom": null,
            "display": null,
            "flex": null,
            "flex_flow": null,
            "grid_area": null,
            "grid_auto_columns": null,
            "grid_auto_flow": null,
            "grid_auto_rows": null,
            "grid_column": null,
            "grid_gap": null,
            "grid_row": null,
            "grid_template_areas": null,
            "grid_template_columns": null,
            "grid_template_rows": null,
            "height": null,
            "justify_content": null,
            "justify_items": null,
            "left": null,
            "margin": null,
            "max_height": null,
            "max_width": null,
            "min_height": null,
            "min_width": null,
            "object_fit": null,
            "object_position": null,
            "order": null,
            "overflow": null,
            "overflow_x": null,
            "overflow_y": null,
            "padding": null,
            "right": null,
            "top": null,
            "visibility": null,
            "width": null
          }
        },
        "fcdda504bd9e48759092923c3b639fd9": {
          "model_module": "@jupyter-widgets/controls",
          "model_name": "ProgressStyleModel",
          "model_module_version": "1.5.0",
          "state": {
            "_model_module": "@jupyter-widgets/controls",
            "_model_module_version": "1.5.0",
            "_model_name": "ProgressStyleModel",
            "_view_count": null,
            "_view_module": "@jupyter-widgets/base",
            "_view_module_version": "1.2.0",
            "_view_name": "StyleView",
            "bar_color": null,
            "description_width": ""
          }
        },
        "6d363b922571411a91e6f9cc7eb37a76": {
          "model_module": "@jupyter-widgets/base",
          "model_name": "LayoutModel",
          "model_module_version": "1.2.0",
          "state": {
            "_model_module": "@jupyter-widgets/base",
            "_model_module_version": "1.2.0",
            "_model_name": "LayoutModel",
            "_view_count": null,
            "_view_module": "@jupyter-widgets/base",
            "_view_module_version": "1.2.0",
            "_view_name": "LayoutView",
            "align_content": null,
            "align_items": null,
            "align_self": null,
            "border": null,
            "bottom": null,
            "display": null,
            "flex": null,
            "flex_flow": null,
            "grid_area": null,
            "grid_auto_columns": null,
            "grid_auto_flow": null,
            "grid_auto_rows": null,
            "grid_column": null,
            "grid_gap": null,
            "grid_row": null,
            "grid_template_areas": null,
            "grid_template_columns": null,
            "grid_template_rows": null,
            "height": null,
            "justify_content": null,
            "justify_items": null,
            "left": null,
            "margin": null,
            "max_height": null,
            "max_width": null,
            "min_height": null,
            "min_width": null,
            "object_fit": null,
            "object_position": null,
            "order": null,
            "overflow": null,
            "overflow_x": null,
            "overflow_y": null,
            "padding": null,
            "right": null,
            "top": null,
            "visibility": null,
            "width": null
          }
        },
        "9715d5b0de7b48fdb6f556ddcb4d1173": {
          "model_module": "@jupyter-widgets/controls",
          "model_name": "DescriptionStyleModel",
          "model_module_version": "1.5.0",
          "state": {
            "_model_module": "@jupyter-widgets/controls",
            "_model_module_version": "1.5.0",
            "_model_name": "DescriptionStyleModel",
            "_view_count": null,
            "_view_module": "@jupyter-widgets/base",
            "_view_module_version": "1.2.0",
            "_view_name": "StyleView",
            "description_width": ""
          }
        },
        "e0ba157bf2b04d4da77bca350344597c": {
          "model_module": "@jupyter-widgets/controls",
          "model_name": "HBoxModel",
          "model_module_version": "1.5.0",
          "state": {
            "_dom_classes": [],
            "_model_module": "@jupyter-widgets/controls",
            "_model_module_version": "1.5.0",
            "_model_name": "HBoxModel",
            "_view_count": null,
            "_view_module": "@jupyter-widgets/controls",
            "_view_module_version": "1.5.0",
            "_view_name": "HBoxView",
            "box_style": "",
            "children": [
              "IPY_MODEL_0d714e86b10f45489fef47b702ea3c82",
              "IPY_MODEL_787ad04634c94d2787affe9b496e8c91",
              "IPY_MODEL_e8635c5db62a41b6962db2b41833b49c"
            ],
            "layout": "IPY_MODEL_060e6601f39a4740974941790725cc28"
          }
        },
        "0d714e86b10f45489fef47b702ea3c82": {
          "model_module": "@jupyter-widgets/controls",
          "model_name": "HTMLModel",
          "model_module_version": "1.5.0",
          "state": {
            "_dom_classes": [],
            "_model_module": "@jupyter-widgets/controls",
            "_model_module_version": "1.5.0",
            "_model_name": "HTMLModel",
            "_view_count": null,
            "_view_module": "@jupyter-widgets/controls",
            "_view_module_version": "1.5.0",
            "_view_name": "HTMLView",
            "description": "",
            "description_tooltip": null,
            "layout": "IPY_MODEL_b4ecf9036b594727b2ea60c641270a7c",
            "placeholder": "​",
            "style": "IPY_MODEL_633c922d63564a7b848b7b6b6d45a300",
            "value": "Downloading (…)olve/main/merges.txt: 100%"
          }
        },
        "787ad04634c94d2787affe9b496e8c91": {
          "model_module": "@jupyter-widgets/controls",
          "model_name": "FloatProgressModel",
          "model_module_version": "1.5.0",
          "state": {
            "_dom_classes": [],
            "_model_module": "@jupyter-widgets/controls",
            "_model_module_version": "1.5.0",
            "_model_name": "FloatProgressModel",
            "_view_count": null,
            "_view_module": "@jupyter-widgets/controls",
            "_view_module_version": "1.5.0",
            "_view_name": "ProgressView",
            "bar_style": "success",
            "description": "",
            "description_tooltip": null,
            "layout": "IPY_MODEL_680e1b9f5c9e4330a89ec0c0efec8b82",
            "max": 456318,
            "min": 0,
            "orientation": "horizontal",
            "style": "IPY_MODEL_9e0b26cb75034624af9f25ff7517f41e",
            "value": 456318
          }
        },
        "e8635c5db62a41b6962db2b41833b49c": {
          "model_module": "@jupyter-widgets/controls",
          "model_name": "HTMLModel",
          "model_module_version": "1.5.0",
          "state": {
            "_dom_classes": [],
            "_model_module": "@jupyter-widgets/controls",
            "_model_module_version": "1.5.0",
            "_model_name": "HTMLModel",
            "_view_count": null,
            "_view_module": "@jupyter-widgets/controls",
            "_view_module_version": "1.5.0",
            "_view_name": "HTMLView",
            "description": "",
            "description_tooltip": null,
            "layout": "IPY_MODEL_5fd774b8b6c1420d867e8e76e5ed7e2b",
            "placeholder": "​",
            "style": "IPY_MODEL_fb809e7d14fd4fa697b98494cded9e86",
            "value": " 456k/456k [00:00&lt;00:00, 1.45MB/s]"
          }
        },
        "060e6601f39a4740974941790725cc28": {
          "model_module": "@jupyter-widgets/base",
          "model_name": "LayoutModel",
          "model_module_version": "1.2.0",
          "state": {
            "_model_module": "@jupyter-widgets/base",
            "_model_module_version": "1.2.0",
            "_model_name": "LayoutModel",
            "_view_count": null,
            "_view_module": "@jupyter-widgets/base",
            "_view_module_version": "1.2.0",
            "_view_name": "LayoutView",
            "align_content": null,
            "align_items": null,
            "align_self": null,
            "border": null,
            "bottom": null,
            "display": null,
            "flex": null,
            "flex_flow": null,
            "grid_area": null,
            "grid_auto_columns": null,
            "grid_auto_flow": null,
            "grid_auto_rows": null,
            "grid_column": null,
            "grid_gap": null,
            "grid_row": null,
            "grid_template_areas": null,
            "grid_template_columns": null,
            "grid_template_rows": null,
            "height": null,
            "justify_content": null,
            "justify_items": null,
            "left": null,
            "margin": null,
            "max_height": null,
            "max_width": null,
            "min_height": null,
            "min_width": null,
            "object_fit": null,
            "object_position": null,
            "order": null,
            "overflow": null,
            "overflow_x": null,
            "overflow_y": null,
            "padding": null,
            "right": null,
            "top": null,
            "visibility": null,
            "width": null
          }
        },
        "b4ecf9036b594727b2ea60c641270a7c": {
          "model_module": "@jupyter-widgets/base",
          "model_name": "LayoutModel",
          "model_module_version": "1.2.0",
          "state": {
            "_model_module": "@jupyter-widgets/base",
            "_model_module_version": "1.2.0",
            "_model_name": "LayoutModel",
            "_view_count": null,
            "_view_module": "@jupyter-widgets/base",
            "_view_module_version": "1.2.0",
            "_view_name": "LayoutView",
            "align_content": null,
            "align_items": null,
            "align_self": null,
            "border": null,
            "bottom": null,
            "display": null,
            "flex": null,
            "flex_flow": null,
            "grid_area": null,
            "grid_auto_columns": null,
            "grid_auto_flow": null,
            "grid_auto_rows": null,
            "grid_column": null,
            "grid_gap": null,
            "grid_row": null,
            "grid_template_areas": null,
            "grid_template_columns": null,
            "grid_template_rows": null,
            "height": null,
            "justify_content": null,
            "justify_items": null,
            "left": null,
            "margin": null,
            "max_height": null,
            "max_width": null,
            "min_height": null,
            "min_width": null,
            "object_fit": null,
            "object_position": null,
            "order": null,
            "overflow": null,
            "overflow_x": null,
            "overflow_y": null,
            "padding": null,
            "right": null,
            "top": null,
            "visibility": null,
            "width": null
          }
        },
        "633c922d63564a7b848b7b6b6d45a300": {
          "model_module": "@jupyter-widgets/controls",
          "model_name": "DescriptionStyleModel",
          "model_module_version": "1.5.0",
          "state": {
            "_model_module": "@jupyter-widgets/controls",
            "_model_module_version": "1.5.0",
            "_model_name": "DescriptionStyleModel",
            "_view_count": null,
            "_view_module": "@jupyter-widgets/base",
            "_view_module_version": "1.2.0",
            "_view_name": "StyleView",
            "description_width": ""
          }
        },
        "680e1b9f5c9e4330a89ec0c0efec8b82": {
          "model_module": "@jupyter-widgets/base",
          "model_name": "LayoutModel",
          "model_module_version": "1.2.0",
          "state": {
            "_model_module": "@jupyter-widgets/base",
            "_model_module_version": "1.2.0",
            "_model_name": "LayoutModel",
            "_view_count": null,
            "_view_module": "@jupyter-widgets/base",
            "_view_module_version": "1.2.0",
            "_view_name": "LayoutView",
            "align_content": null,
            "align_items": null,
            "align_self": null,
            "border": null,
            "bottom": null,
            "display": null,
            "flex": null,
            "flex_flow": null,
            "grid_area": null,
            "grid_auto_columns": null,
            "grid_auto_flow": null,
            "grid_auto_rows": null,
            "grid_column": null,
            "grid_gap": null,
            "grid_row": null,
            "grid_template_areas": null,
            "grid_template_columns": null,
            "grid_template_rows": null,
            "height": null,
            "justify_content": null,
            "justify_items": null,
            "left": null,
            "margin": null,
            "max_height": null,
            "max_width": null,
            "min_height": null,
            "min_width": null,
            "object_fit": null,
            "object_position": null,
            "order": null,
            "overflow": null,
            "overflow_x": null,
            "overflow_y": null,
            "padding": null,
            "right": null,
            "top": null,
            "visibility": null,
            "width": null
          }
        },
        "9e0b26cb75034624af9f25ff7517f41e": {
          "model_module": "@jupyter-widgets/controls",
          "model_name": "ProgressStyleModel",
          "model_module_version": "1.5.0",
          "state": {
            "_model_module": "@jupyter-widgets/controls",
            "_model_module_version": "1.5.0",
            "_model_name": "ProgressStyleModel",
            "_view_count": null,
            "_view_module": "@jupyter-widgets/base",
            "_view_module_version": "1.2.0",
            "_view_name": "StyleView",
            "bar_color": null,
            "description_width": ""
          }
        },
        "5fd774b8b6c1420d867e8e76e5ed7e2b": {
          "model_module": "@jupyter-widgets/base",
          "model_name": "LayoutModel",
          "model_module_version": "1.2.0",
          "state": {
            "_model_module": "@jupyter-widgets/base",
            "_model_module_version": "1.2.0",
            "_model_name": "LayoutModel",
            "_view_count": null,
            "_view_module": "@jupyter-widgets/base",
            "_view_module_version": "1.2.0",
            "_view_name": "LayoutView",
            "align_content": null,
            "align_items": null,
            "align_self": null,
            "border": null,
            "bottom": null,
            "display": null,
            "flex": null,
            "flex_flow": null,
            "grid_area": null,
            "grid_auto_columns": null,
            "grid_auto_flow": null,
            "grid_auto_rows": null,
            "grid_column": null,
            "grid_gap": null,
            "grid_row": null,
            "grid_template_areas": null,
            "grid_template_columns": null,
            "grid_template_rows": null,
            "height": null,
            "justify_content": null,
            "justify_items": null,
            "left": null,
            "margin": null,
            "max_height": null,
            "max_width": null,
            "min_height": null,
            "min_width": null,
            "object_fit": null,
            "object_position": null,
            "order": null,
            "overflow": null,
            "overflow_x": null,
            "overflow_y": null,
            "padding": null,
            "right": null,
            "top": null,
            "visibility": null,
            "width": null
          }
        },
        "fb809e7d14fd4fa697b98494cded9e86": {
          "model_module": "@jupyter-widgets/controls",
          "model_name": "DescriptionStyleModel",
          "model_module_version": "1.5.0",
          "state": {
            "_model_module": "@jupyter-widgets/controls",
            "_model_module_version": "1.5.0",
            "_model_name": "DescriptionStyleModel",
            "_view_count": null,
            "_view_module": "@jupyter-widgets/base",
            "_view_module_version": "1.2.0",
            "_view_name": "StyleView",
            "description_width": ""
          }
        },
        "ca627a3ef59e4ca6b2ae475a00af1bb2": {
          "model_module": "@jupyter-widgets/controls",
          "model_name": "HBoxModel",
          "model_module_version": "1.5.0",
          "state": {
            "_dom_classes": [],
            "_model_module": "@jupyter-widgets/controls",
            "_model_module_version": "1.5.0",
            "_model_name": "HBoxModel",
            "_view_count": null,
            "_view_module": "@jupyter-widgets/controls",
            "_view_module_version": "1.5.0",
            "_view_name": "HBoxView",
            "box_style": "",
            "children": [
              "IPY_MODEL_6505554f1a53463987a582d0664f5ff4",
              "IPY_MODEL_9e2a1caa92294359ad52129c6d6bd4e7",
              "IPY_MODEL_46dd2d9ba0044304a94af6621ec5e321"
            ],
            "layout": "IPY_MODEL_8381407d78c647319bfdedbaab4a0637"
          }
        },
        "6505554f1a53463987a582d0664f5ff4": {
          "model_module": "@jupyter-widgets/controls",
          "model_name": "HTMLModel",
          "model_module_version": "1.5.0",
          "state": {
            "_dom_classes": [],
            "_model_module": "@jupyter-widgets/controls",
            "_model_module_version": "1.5.0",
            "_model_name": "HTMLModel",
            "_view_count": null,
            "_view_module": "@jupyter-widgets/controls",
            "_view_module_version": "1.5.0",
            "_view_name": "HTMLView",
            "description": "",
            "description_tooltip": null,
            "layout": "IPY_MODEL_8e1235a35e434a35895061b84153720c",
            "placeholder": "​",
            "style": "IPY_MODEL_d79829a8c1d94932bb6c13c147d28464",
            "value": "Downloading (…)/main/tokenizer.json: 100%"
          }
        },
        "9e2a1caa92294359ad52129c6d6bd4e7": {
          "model_module": "@jupyter-widgets/controls",
          "model_name": "FloatProgressModel",
          "model_module_version": "1.5.0",
          "state": {
            "_dom_classes": [],
            "_model_module": "@jupyter-widgets/controls",
            "_model_module_version": "1.5.0",
            "_model_name": "FloatProgressModel",
            "_view_count": null,
            "_view_module": "@jupyter-widgets/controls",
            "_view_module_version": "1.5.0",
            "_view_name": "ProgressView",
            "bar_style": "success",
            "description": "",
            "description_tooltip": null,
            "layout": "IPY_MODEL_0a13f22407bb49b096eb0d98e392ebc7",
            "max": 1355256,
            "min": 0,
            "orientation": "horizontal",
            "style": "IPY_MODEL_27f72105ae8d4f4f88971369c6c7f0c3",
            "value": 1355256
          }
        },
        "46dd2d9ba0044304a94af6621ec5e321": {
          "model_module": "@jupyter-widgets/controls",
          "model_name": "HTMLModel",
          "model_module_version": "1.5.0",
          "state": {
            "_dom_classes": [],
            "_model_module": "@jupyter-widgets/controls",
            "_model_module_version": "1.5.0",
            "_model_name": "HTMLModel",
            "_view_count": null,
            "_view_module": "@jupyter-widgets/controls",
            "_view_module_version": "1.5.0",
            "_view_name": "HTMLView",
            "description": "",
            "description_tooltip": null,
            "layout": "IPY_MODEL_6ecd64e380ad4253932c157bfcd8d587",
            "placeholder": "​",
            "style": "IPY_MODEL_39e5ed9ac0cc4567856c657aa4f6e690",
            "value": " 1.36M/1.36M [00:00&lt;00:00, 3.66MB/s]"
          }
        },
        "8381407d78c647319bfdedbaab4a0637": {
          "model_module": "@jupyter-widgets/base",
          "model_name": "LayoutModel",
          "model_module_version": "1.2.0",
          "state": {
            "_model_module": "@jupyter-widgets/base",
            "_model_module_version": "1.2.0",
            "_model_name": "LayoutModel",
            "_view_count": null,
            "_view_module": "@jupyter-widgets/base",
            "_view_module_version": "1.2.0",
            "_view_name": "LayoutView",
            "align_content": null,
            "align_items": null,
            "align_self": null,
            "border": null,
            "bottom": null,
            "display": null,
            "flex": null,
            "flex_flow": null,
            "grid_area": null,
            "grid_auto_columns": null,
            "grid_auto_flow": null,
            "grid_auto_rows": null,
            "grid_column": null,
            "grid_gap": null,
            "grid_row": null,
            "grid_template_areas": null,
            "grid_template_columns": null,
            "grid_template_rows": null,
            "height": null,
            "justify_content": null,
            "justify_items": null,
            "left": null,
            "margin": null,
            "max_height": null,
            "max_width": null,
            "min_height": null,
            "min_width": null,
            "object_fit": null,
            "object_position": null,
            "order": null,
            "overflow": null,
            "overflow_x": null,
            "overflow_y": null,
            "padding": null,
            "right": null,
            "top": null,
            "visibility": null,
            "width": null
          }
        },
        "8e1235a35e434a35895061b84153720c": {
          "model_module": "@jupyter-widgets/base",
          "model_name": "LayoutModel",
          "model_module_version": "1.2.0",
          "state": {
            "_model_module": "@jupyter-widgets/base",
            "_model_module_version": "1.2.0",
            "_model_name": "LayoutModel",
            "_view_count": null,
            "_view_module": "@jupyter-widgets/base",
            "_view_module_version": "1.2.0",
            "_view_name": "LayoutView",
            "align_content": null,
            "align_items": null,
            "align_self": null,
            "border": null,
            "bottom": null,
            "display": null,
            "flex": null,
            "flex_flow": null,
            "grid_area": null,
            "grid_auto_columns": null,
            "grid_auto_flow": null,
            "grid_auto_rows": null,
            "grid_column": null,
            "grid_gap": null,
            "grid_row": null,
            "grid_template_areas": null,
            "grid_template_columns": null,
            "grid_template_rows": null,
            "height": null,
            "justify_content": null,
            "justify_items": null,
            "left": null,
            "margin": null,
            "max_height": null,
            "max_width": null,
            "min_height": null,
            "min_width": null,
            "object_fit": null,
            "object_position": null,
            "order": null,
            "overflow": null,
            "overflow_x": null,
            "overflow_y": null,
            "padding": null,
            "right": null,
            "top": null,
            "visibility": null,
            "width": null
          }
        },
        "d79829a8c1d94932bb6c13c147d28464": {
          "model_module": "@jupyter-widgets/controls",
          "model_name": "DescriptionStyleModel",
          "model_module_version": "1.5.0",
          "state": {
            "_model_module": "@jupyter-widgets/controls",
            "_model_module_version": "1.5.0",
            "_model_name": "DescriptionStyleModel",
            "_view_count": null,
            "_view_module": "@jupyter-widgets/base",
            "_view_module_version": "1.2.0",
            "_view_name": "StyleView",
            "description_width": ""
          }
        },
        "0a13f22407bb49b096eb0d98e392ebc7": {
          "model_module": "@jupyter-widgets/base",
          "model_name": "LayoutModel",
          "model_module_version": "1.2.0",
          "state": {
            "_model_module": "@jupyter-widgets/base",
            "_model_module_version": "1.2.0",
            "_model_name": "LayoutModel",
            "_view_count": null,
            "_view_module": "@jupyter-widgets/base",
            "_view_module_version": "1.2.0",
            "_view_name": "LayoutView",
            "align_content": null,
            "align_items": null,
            "align_self": null,
            "border": null,
            "bottom": null,
            "display": null,
            "flex": null,
            "flex_flow": null,
            "grid_area": null,
            "grid_auto_columns": null,
            "grid_auto_flow": null,
            "grid_auto_rows": null,
            "grid_column": null,
            "grid_gap": null,
            "grid_row": null,
            "grid_template_areas": null,
            "grid_template_columns": null,
            "grid_template_rows": null,
            "height": null,
            "justify_content": null,
            "justify_items": null,
            "left": null,
            "margin": null,
            "max_height": null,
            "max_width": null,
            "min_height": null,
            "min_width": null,
            "object_fit": null,
            "object_position": null,
            "order": null,
            "overflow": null,
            "overflow_x": null,
            "overflow_y": null,
            "padding": null,
            "right": null,
            "top": null,
            "visibility": null,
            "width": null
          }
        },
        "27f72105ae8d4f4f88971369c6c7f0c3": {
          "model_module": "@jupyter-widgets/controls",
          "model_name": "ProgressStyleModel",
          "model_module_version": "1.5.0",
          "state": {
            "_model_module": "@jupyter-widgets/controls",
            "_model_module_version": "1.5.0",
            "_model_name": "ProgressStyleModel",
            "_view_count": null,
            "_view_module": "@jupyter-widgets/base",
            "_view_module_version": "1.2.0",
            "_view_name": "StyleView",
            "bar_color": null,
            "description_width": ""
          }
        },
        "6ecd64e380ad4253932c157bfcd8d587": {
          "model_module": "@jupyter-widgets/base",
          "model_name": "LayoutModel",
          "model_module_version": "1.2.0",
          "state": {
            "_model_module": "@jupyter-widgets/base",
            "_model_module_version": "1.2.0",
            "_model_name": "LayoutModel",
            "_view_count": null,
            "_view_module": "@jupyter-widgets/base",
            "_view_module_version": "1.2.0",
            "_view_name": "LayoutView",
            "align_content": null,
            "align_items": null,
            "align_self": null,
            "border": null,
            "bottom": null,
            "display": null,
            "flex": null,
            "flex_flow": null,
            "grid_area": null,
            "grid_auto_columns": null,
            "grid_auto_flow": null,
            "grid_auto_rows": null,
            "grid_column": null,
            "grid_gap": null,
            "grid_row": null,
            "grid_template_areas": null,
            "grid_template_columns": null,
            "grid_template_rows": null,
            "height": null,
            "justify_content": null,
            "justify_items": null,
            "left": null,
            "margin": null,
            "max_height": null,
            "max_width": null,
            "min_height": null,
            "min_width": null,
            "object_fit": null,
            "object_position": null,
            "order": null,
            "overflow": null,
            "overflow_x": null,
            "overflow_y": null,
            "padding": null,
            "right": null,
            "top": null,
            "visibility": null,
            "width": null
          }
        },
        "39e5ed9ac0cc4567856c657aa4f6e690": {
          "model_module": "@jupyter-widgets/controls",
          "model_name": "DescriptionStyleModel",
          "model_module_version": "1.5.0",
          "state": {
            "_model_module": "@jupyter-widgets/controls",
            "_model_module_version": "1.5.0",
            "_model_name": "DescriptionStyleModel",
            "_view_count": null,
            "_view_module": "@jupyter-widgets/base",
            "_view_module_version": "1.2.0",
            "_view_name": "StyleView",
            "description_width": ""
          }
        }
      }
    }
  },
  "cells": [
    {
      "cell_type": "markdown",
      "source": [
        "## Set-up"
      ],
      "metadata": {
        "id": "MO_VoyoNuahA"
      }
    },
    {
      "cell_type": "code",
      "execution_count": null,
      "metadata": {
        "colab": {
          "base_uri": "https://localhost:8080/"
        },
        "id": "JbTcoBrfphh8",
        "outputId": "a72e3c76-61c6-4439-fb78-79a5d1a0764a"
      },
      "outputs": [
        {
          "output_type": "stream",
          "name": "stdout",
          "text": [
            "Looking in indexes: https://pypi.org/simple, https://us-python.pkg.dev/colab-wheels/public/simple/\n",
            "Collecting num2words\n",
            "  Downloading num2words-0.5.12-py3-none-any.whl (125 kB)\n",
            "\u001b[2K     \u001b[90m━━━━━━━━━━━━━━━━━━━━━━━━━━━━━━━━━━━━━━━\u001b[0m \u001b[32m125.2/125.2 KB\u001b[0m \u001b[31m3.7 MB/s\u001b[0m eta \u001b[36m0:00:00\u001b[0m\n",
            "\u001b[?25hCollecting docopt>=0.6.2\n",
            "  Downloading docopt-0.6.2.tar.gz (25 kB)\n",
            "  Preparing metadata (setup.py) ... \u001b[?25l\u001b[?25hdone\n",
            "Building wheels for collected packages: docopt\n",
            "  Building wheel for docopt (setup.py) ... \u001b[?25l\u001b[?25hdone\n",
            "  Created wheel for docopt: filename=docopt-0.6.2-py2.py3-none-any.whl size=13721 sha256=711b73aeca5bc84c88ed090eeeb6bbec63c858afaf94676e8dcfa8de124621d6\n",
            "  Stored in directory: /root/.cache/pip/wheels/70/4a/46/1309fc853b8d395e60bafaf1b6df7845bdd82c95fd59dd8d2b\n",
            "Successfully built docopt\n",
            "Installing collected packages: docopt, num2words\n",
            "Successfully installed docopt-0.6.2 num2words-0.5.12\n",
            "Looking in indexes: https://pypi.org/simple, https://us-python.pkg.dev/colab-wheels/public/simple/\n",
            "Collecting contractions\n",
            "  Downloading contractions-0.1.73-py2.py3-none-any.whl (8.7 kB)\n",
            "Collecting textsearch>=0.0.21\n",
            "  Downloading textsearch-0.0.24-py2.py3-none-any.whl (7.6 kB)\n",
            "Collecting anyascii\n",
            "  Downloading anyascii-0.3.2-py3-none-any.whl (289 kB)\n",
            "\u001b[2K     \u001b[90m━━━━━━━━━━━━━━━━━━━━━━━━━━━━━━━━━━━━━━━\u001b[0m \u001b[32m289.9/289.9 KB\u001b[0m \u001b[31m3.9 MB/s\u001b[0m eta \u001b[36m0:00:00\u001b[0m\n",
            "\u001b[?25hCollecting pyahocorasick\n",
            "  Downloading pyahocorasick-2.0.0-cp39-cp39-manylinux_2_5_x86_64.manylinux1_x86_64.whl (103 kB)\n",
            "\u001b[2K     \u001b[90m━━━━━━━━━━━━━━━━━━━━━━━━━━━━━━━━━━━━━━━\u001b[0m \u001b[32m103.2/103.2 KB\u001b[0m \u001b[31m8.3 MB/s\u001b[0m eta \u001b[36m0:00:00\u001b[0m\n",
            "\u001b[?25hInstalling collected packages: pyahocorasick, anyascii, textsearch, contractions\n",
            "Successfully installed anyascii-0.3.2 contractions-0.1.73 pyahocorasick-2.0.0 textsearch-0.0.24\n",
            "Looking in indexes: https://pypi.org/simple, https://us-python.pkg.dev/colab-wheels/public/simple/\n",
            "Collecting transformers\n",
            "  Downloading transformers-4.27.1-py3-none-any.whl (6.7 MB)\n",
            "\u001b[2K     \u001b[90m━━━━━━━━━━━━━━━━━━━━━━━━━━━━━━━━━━━━━━━━\u001b[0m \u001b[32m6.7/6.7 MB\u001b[0m \u001b[31m63.3 MB/s\u001b[0m eta \u001b[36m0:00:00\u001b[0m\n",
            "\u001b[?25hRequirement already satisfied: pyyaml>=5.1 in /usr/local/lib/python3.9/dist-packages (from transformers) (6.0)\n",
            "Collecting huggingface-hub<1.0,>=0.11.0\n",
            "  Downloading huggingface_hub-0.13.2-py3-none-any.whl (199 kB)\n",
            "\u001b[2K     \u001b[90m━━━━━━━━━━━━━━━━━━━━━━━━━━━━━━━━━━━━━━\u001b[0m \u001b[32m199.2/199.2 KB\u001b[0m \u001b[31m25.7 MB/s\u001b[0m eta \u001b[36m0:00:00\u001b[0m\n",
            "\u001b[?25hRequirement already satisfied: filelock in /usr/local/lib/python3.9/dist-packages (from transformers) (3.9.1)\n",
            "Requirement already satisfied: regex!=2019.12.17 in /usr/local/lib/python3.9/dist-packages (from transformers) (2022.6.2)\n",
            "Collecting tokenizers!=0.11.3,<0.14,>=0.11.1\n",
            "  Downloading tokenizers-0.13.2-cp39-cp39-manylinux_2_17_x86_64.manylinux2014_x86_64.whl (7.6 MB)\n",
            "\u001b[2K     \u001b[90m━━━━━━━━━━━━━━━━━━━━━━━━━━━━━━━━━━━━━━━━\u001b[0m \u001b[32m7.6/7.6 MB\u001b[0m \u001b[31m105.6 MB/s\u001b[0m eta \u001b[36m0:00:00\u001b[0m\n",
            "\u001b[?25hRequirement already satisfied: tqdm>=4.27 in /usr/local/lib/python3.9/dist-packages (from transformers) (4.65.0)\n",
            "Requirement already satisfied: packaging>=20.0 in /usr/local/lib/python3.9/dist-packages (from transformers) (23.0)\n",
            "Requirement already satisfied: numpy>=1.17 in /usr/local/lib/python3.9/dist-packages (from transformers) (1.22.4)\n",
            "Requirement already satisfied: requests in /usr/local/lib/python3.9/dist-packages (from transformers) (2.25.1)\n",
            "Requirement already satisfied: typing-extensions>=3.7.4.3 in /usr/local/lib/python3.9/dist-packages (from huggingface-hub<1.0,>=0.11.0->transformers) (4.5.0)\n",
            "Requirement already satisfied: urllib3<1.27,>=1.21.1 in /usr/local/lib/python3.9/dist-packages (from requests->transformers) (1.26.15)\n",
            "Requirement already satisfied: certifi>=2017.4.17 in /usr/local/lib/python3.9/dist-packages (from requests->transformers) (2022.12.7)\n",
            "Requirement already satisfied: chardet<5,>=3.0.2 in /usr/local/lib/python3.9/dist-packages (from requests->transformers) (4.0.0)\n",
            "Requirement already satisfied: idna<3,>=2.5 in /usr/local/lib/python3.9/dist-packages (from requests->transformers) (2.10)\n",
            "Installing collected packages: tokenizers, huggingface-hub, transformers\n",
            "Successfully installed huggingface-hub-0.13.2 tokenizers-0.13.2 transformers-4.27.1\n"
          ]
        }
      ],
      "source": [
        "# Environment setup\n",
        "from google.colab import drive\n",
        "import pandas as pd\n",
        "import numpy as np\n",
        "!pip3 install num2words\n",
        "from num2words import num2words\n",
        "import re\n",
        "import os\n",
        "import time\n",
        "!pip3 install contractions\n",
        "import contractions\n",
        "import tensorflow as tf\n",
        "import keras\n",
        "!pip3 install transformers\n",
        "from transformers import (\n",
        "    GPT2Tokenizer,\n",
        "    DataCollatorForLanguageModeling,\n",
        "    TextDataset,\n",
        "    GPT2LMHeadModel,\n",
        "    TrainingArguments,\n",
        "    Trainer,\n",
        "    pipeline)\n",
        "import torch\n",
        "import torch.nn as nn"
      ]
    },
    {
      "cell_type": "code",
      "source": [
        "# Mount GoogleDrive\n",
        "drive.mount('/content/gdrive')"
      ],
      "metadata": {
        "colab": {
          "base_uri": "https://localhost:8080/"
        },
        "id": "dOHP6a4QqCoT",
        "outputId": "e9e96994-9df0-4cd6-8281-7ffb15cf9fd6"
      },
      "execution_count": null,
      "outputs": [
        {
          "output_type": "stream",
          "name": "stdout",
          "text": [
            "Mounted at /content/gdrive\n"
          ]
        }
      ]
    },
    {
      "cell_type": "markdown",
      "source": [
        "## Load Original Text"
      ],
      "metadata": {
        "id": "GQzE-m-I0Pgr"
      }
    },
    {
      "cell_type": "code",
      "source": [
        "with open('/content/gdrive/MyDrive/Colab Notebooks/CSC8637/SciFi/internet_archive_scifi_v3.txt','r', encoding=\"utf-8\") as f:\n",
        "  scifi = f.read()\n",
        "\n",
        "num_chars = len(scifi)\n",
        "print(\"Number of characters in the document:\", num_chars)"
      ],
      "metadata": {
        "colab": {
          "base_uri": "https://localhost:8080/"
        },
        "id": "lh7H-yi85FcQ",
        "outputId": "23399d5e-b0d4-42f9-e6ba-a680537e94b9"
      },
      "execution_count": null,
      "outputs": [
        {
          "output_type": "stream",
          "name": "stdout",
          "text": [
            "Number of characters in the document: 149326361\n"
          ]
        }
      ]
    },
    {
      "cell_type": "code",
      "source": [
        "# The unique characters in the file\n",
        "vocab = sorted(set(scifi))\n",
        "print(f'{len(vocab)} unique characters')"
      ],
      "metadata": {
        "colab": {
          "base_uri": "https://localhost:8080/"
        },
        "id": "MYA6X0bv5fhS",
        "outputId": "1aa84042-98f0-460a-ca63-06b37e55adc9"
      },
      "execution_count": null,
      "outputs": [
        {
          "output_type": "stream",
          "name": "stdout",
          "text": [
            "75 unique characters\n"
          ]
        }
      ]
    },
    {
      "cell_type": "code",
      "source": [
        "# Extract the first 5500 characters of the row\n",
        "first_5500_chars = scifi[:5500]\n",
        "print(first_5500_chars) # Remove the first 5200 as copyright materical and not scifi stories."
      ],
      "metadata": {
        "colab": {
          "base_uri": "https://localhost:8080/"
        },
        "id": "3N8haUru4e0a",
        "outputId": "6581ef02-eb59-44ea-9c18-a0a1dd02526c"
      },
      "execution_count": null,
      "outputs": [
        {
          "output_type": "stream",
          "name": "stdout",
          "text": [
            "MARCH # All Stories New and Complete Publisher Editor IF is published bi-monthly by Quinn Publishing Company, Inc., Kingston, New York. Volume #, No. #. Copyright # by Quinn Publishing Company, Inc. Application for Entry' as Second Class matter at Post Office, Buffalo, New York, pending. Subscription # for # issues in U.S. and Possessions: Canada # for # issues; elsewhere #. Aiiow four weeks for change of address. All stories appearing in this magazine are fiction. Any similarity to actual persons is coincidental. #c a fcopy. Printed ia U.S. A. A chat with the editor  i #  science fiction magazine called IF. The title was selected after much thought because of its brevity and on the theory it is indicative of the field and will be easy to remember. The tentative title that just morning and couldn't remember it until we'd had a cup of coffee, it was summarily discarded. A great deal of thought and effort lias gone into the formation of this magazine. We have had the aid of several very talented and generous people, for which we are most grateful. Much is due them for their warmhearted assistance. And now that the bulk of the formative work is done, we will try to maintain IF as one of the finest books on the market.  t a great public demand for our magazine. In short, why will you buy IF? We cannot, in honesty, say we will publish at all times the best science fiction in the field. That would not be true. But we will have access to the best stories, and we will get our fair share of works from the best writers. We definitely will not talk \"adult\" or \"juvenile\" relative to our content as we feel such terms are misleading. We would rather think at all times in the terms of \"story\". Some of the greatest escapist literature ever written, Treasure Island for instance, could be put into either category or both. And if Edgar Rice Burroughs is juvenile, then so are we, because the late master has given us some memorable thrills. Frankly, we don't think you'll buy IF because you feel we print better yams than any other mag. You will buy it, we hope, because you like its personality. Every magazine, we feel, does have a definite personality of its own. This personality is usually a reflection of the editors, their way of thinking, their appreciation of tKe market, their interpretation of what you will like best in stories and artwork. We have tried to make IF different from any other science fiction magazine on the stands while still building it along the lines of what every science fiction mag must be. Aside from the letter columns and the editorial, which are departments of field-wide use, we have not copied any feature of any other magazine. We will not, for instance, review fanzines, because we feel that is being most ably done by other mags. Nor will we, as a general practice, review books because that appears to us to be overdone. a personality of our own and hope thereby to establish an affinity with a large number of readers who will remember IF when they buy a science fiction mag as one they like and wish to continue reading. At all times we will hew to the story-line and will exhort with our writers to do the same. As an example, when Howard Browne phoned to talk over the plot for his lead novel in this issue, he described what ivas without doubt a staggering premise, a really startling concept. \"But,\" he mourned, S T suppose I'll have to bend it around to give them the good old conventional ending.\" We told Howard, \"Not for IF, chum. Remember the old creed we live by. A writer may cheat on his wife, but he is ever true to the story-line. He may haul his infant son around by one leg. but he carries a good story-idea like a holy relic. If there is only one logical ending for Twelve Times ZerG, that's the ending we want.\" Therefore, we do not feel the majority of readers necessarily want a happy ending regardless of all else. Not when it is incompatable with the aura of realism created by the writer. A check-list of fiction masterpieces certainly bears this out. The furor created by a little piece called Sorry , Wrong Number would certainly not have been forthcoming had the bedridden lady been rescued in the last paragraph. Romeo and Juliet would have beep nothing more than the smooth effort of the world's greatest writer if Romeo had gotten there in time. Yet, in modern fiction, he gets there in time with such amazing regularity one feels he has memorized at least  a dozen time-tables. The result has been unnumbered carloads of mediocre fiction. Also -- though we don't wish to underscore the point too heavily -- what could more surely have smothered the greatness of Wuthering Heights than a happy ending?  that IF will be a magazine given over to tragedy. W e will only insist that our writers create scenes and climaxes that fix the story rather than cater to that old \"debil\" formula. And in so doing we have an entirely selfish motive. This: As the years go by, we want to look back with personal pride upon an everlengthening list of great stories. So the book you now hold in your hands is a new one titled IF. We hope you will like it -- not for just a day -- not for just a month. But for years to come. pwf  Police grilled him mercilessly # while eyes from a hundred worlds looked on  It was a love-triangle murder that made today's headlines but the answer lay hundreds of thousands of light years away! one of the basement rooms. He moved slowly and with a kind of painful dignity, as a man moves on his w\n"
          ]
        }
      ]
    },
    {
      "cell_type": "code",
      "source": [
        "# Find how many times 'pwf' appear\n",
        "print(scifi.find('pwf')) # Remove"
      ],
      "metadata": {
        "colab": {
          "base_uri": "https://localhost:8080/"
        },
        "id": "_fqh-r39z0y-",
        "outputId": "39507bd7-023d-42fc-a5d2-23bf129f26a9"
      },
      "execution_count": null,
      "outputs": [
        {
          "output_type": "stream",
          "name": "stdout",
          "text": [
            "5196\n"
          ]
        }
      ]
    },
    {
      "cell_type": "code",
      "source": [
        "# Extract the last 2000 characters\n",
        "last_2000_chars = scifi[-2000:]\n",
        "print(last_2000_chars) # Remove the last 1944 as not scifi stories."
      ],
      "metadata": {
        "colab": {
          "base_uri": "https://localhost:8080/"
        },
        "id": "17lDRz5OuJ-x",
        "outputId": "38bde45c-eb29-4109-b5bc-138aa27efb9f"
      },
      "execution_count": null,
      "outputs": [
        {
          "output_type": "stream",
          "name": "stdout",
          "text": [
            "tury undersea mission from which no human has ever returned. Now, # feet down, you learn that an (Publ. ed. #) Ed. by T. E. Dikty # top-notch short stories and novelettes by such well known writers as Robert Bloch. Frank Robinson, Mark Clifton, many others. (Publ. ed. #) Just Mail Coupon In.ll.'i.l ' mi coupon your choice of waul in inhlit imi to \"Satellite!\" One bool, will lie considered your first i led ion for which you'll be billed only I plus a few cents jnon I I I you will be offered the cream of I lie new # to # science lid ion books -- for only I each. You take only those books you rcnlly want -- as few as four a year llut this offer may be with. I I a w I I at any time. So mail Del OX-#, Garden City, N. Y. Dept. GX-#, Garden City, N. Y. Enroll me as a member, and rush me my full-length handcated below. Bill me only I (plus few cents shipping charges). Every month send me the Club's free bulletin, \"Things to Come,\" so that I may decide whether or not I wish to receive the coining monthly selection described therein. For each book take a book every month (only four during each year I am a member) -- and I may resign at any time after accepting four selections. return all books in # days, pay nothing, and this membership will be cancelled.  Astounding S-F Anthology  Dragon in the Sea  Best from Fantasy and S-F  Omnibus of S-F  Best S-F Stories and Novels  Treasury of S-F Classics Name AddressCity (please print) . Zone StateSelection price in Canada # plus shipping. Address Science-Fiction Book Club (Canada i, # Bond St. Toronto #. (Good only in Continental LI. S. and Canada) e comfactors v This h  s every # f astounding J a  fiL And the  ealth S sV-i I ?. answersScience-Fiction Book T .f  ?s # on Jhe fM # than-fiction  , ob , e ik storv of our , available Th e fascinating . St ; y acts not even available... authoritative iournals n etey TO # \" I  s i two years' But # t w# rk? about gout predict mysterious What .V. first hook  -- See oier side for full details \n"
          ]
        }
      ]
    },
    {
      "cell_type": "code",
      "source": [
        "# Define function to calculate average sentence length\n",
        "def average_sentence_len(text):\n",
        "  sentences = text.split(\".\")\n",
        "  words = text.split(\" \")\n",
        "  if (sentences[len(sentences)-1]==\"\"):\n",
        "    average_sentence_length= len(words) / len(sentences)-1\n",
        "  else:\n",
        "    average_sentence_length = len(words) / len(sentences)\n",
        "\n",
        "  return average_sentence_length\n",
        "\n",
        "# Define function to calculate maximum sentence length\n",
        "def max_sentence_len(text):\n",
        "  sentences = text.split(\".\")\n",
        "  max_len = max([len(sentence.split()) for sentence in sentences])\n",
        "  return max_len"
      ],
      "metadata": {
        "id": "8Ro2RM3q-7j9"
      },
      "execution_count": null,
      "outputs": []
    },
    {
      "cell_type": "code",
      "source": [
        "# Get max and average sentence length\n",
        "average_sentence_length = average_sentence_len(scifi)\n",
        "max_sentence_length = max_sentence_len(scifi)\n",
        "print(f\"Average sentence length: {average_sentence_length}\")\n",
        "print(f\"Maximum sentence length: {max_sentence_length}\")"
      ],
      "metadata": {
        "colab": {
          "base_uri": "https://localhost:8080/"
        },
        "id": "8lRjiG6va79I",
        "outputId": "34d0896c-aa9a-43b0-ebd2-e98433085d9e"
      },
      "execution_count": null,
      "outputs": [
        {
          "output_type": "stream",
          "name": "stdout",
          "text": [
            "Average sentence length: 12.553956848085688\n",
            "Maximum sentence length: 326\n"
          ]
        }
      ]
    },
    {
      "cell_type": "code",
      "source": [
        "# Count how many words are in the text\n",
        "word_count = len(scifi.split(\" \"))\n",
        "print(\"The number of words in the sample text is:\", word_count)"
      ],
      "metadata": {
        "colab": {
          "base_uri": "https://localhost:8080/"
        },
        "id": "Di1lV6KB8gBv",
        "outputId": "94228179-5285-4b6f-edff-431905887a46"
      },
      "execution_count": null,
      "outputs": [
        {
          "output_type": "stream",
          "name": "stdout",
          "text": [
            "The number of words in the sample text is: 26655101\n"
          ]
        }
      ]
    },
    {
      "cell_type": "markdown",
      "source": [
        "## Preprocessing"
      ],
      "metadata": {
        "id": "w9SFsQF2xznA"
      }
    },
    {
      "cell_type": "code",
      "source": [
        "# Define a function to convert numbers to text\n",
        "def convert_numbers_to_text(text):\n",
        "    numbers = re.findall(r'\\d+', text)\n",
        "    for number in numbers:\n",
        "        text = text.replace(number, num2words(int(number)))\n",
        "    return text"
      ],
      "metadata": {
        "id": "8OJ7ggz1xxY-"
      },
      "execution_count": null,
      "outputs": []
    },
    {
      "cell_type": "code",
      "source": [
        "# Define function to clean and preprocess the text\n",
        "def preprocess(text):\n",
        "  text = text.replace(text[:5200], '') # Delete start of dataset\n",
        "  text = text.replace(text[-1994:], '') # Delete end of dataset\n",
        "  text = text.replace('pwf', '')\n",
        "  text = convert_numbers_to_text(text)\n",
        "  text = text.replace('&', 'and')\n",
        "  text = text.replace('%', ' percent')\n",
        "  text = contractions.fix(text)\n",
        "  # A list of special charaters to be removed\n",
        "  special_characters = ['@', '#', '$', '£', '*', '-', '+', '=', '~', '<', '>']\n",
        "  for i in special_characters:\n",
        "    if i != ',' or '.':\n",
        "      text = text.replace(i, \"\")\n",
        "  return text"
      ],
      "metadata": {
        "id": "izU4LGgz2nKA"
      },
      "execution_count": null,
      "outputs": []
    },
    {
      "cell_type": "code",
      "source": [
        "# Preprocess the original text\n",
        "clean_scifi = preprocess(scifi)"
      ],
      "metadata": {
        "id": "WsqZQpuX5OAY"
      },
      "execution_count": null,
      "outputs": []
    },
    {
      "cell_type": "code",
      "source": [
        "# Save the preprocessed text to a file\n",
        "with open('/content/gdrive/MyDrive/Colab Notebooks/CSC8637/SciFi/clean_scifi.txt', 'w', encoding='utf-8') as f:\n",
        "  f.write(clean_scifi)"
      ],
      "metadata": {
        "id": "eWP45JkuJ53n"
      },
      "execution_count": null,
      "outputs": []
    },
    {
      "cell_type": "code",
      "source": [
        "# Extract the first 300 characters to check it's correct\n",
        "first_300_chars = clean_scifi[:300]\n",
        "print(first_300_chars)"
      ],
      "metadata": {
        "colab": {
          "base_uri": "https://localhost:8080/"
        },
        "id": "blI6M9H2HmaI",
        "outputId": "a74611bf-27a4-4eb2-e51f-68285aeb61ce"
      },
      "execution_count": null,
      "outputs": [
        {
          "output_type": "stream",
          "name": "stdout",
          "text": [
            " Police grilled him mercilessly  while eyes from a hundred worlds looked on  It was a lovetriangle murder that made today's headlines but the answer lay hundreds of thousands of light years away! one of the basement rooms. He moved slowly and with a kind of painful dignity, as a man moves on his way\n"
          ]
        }
      ]
    },
    {
      "cell_type": "code",
      "source": [
        "# Get max and average sentence length\n",
        "average_sentence_length = average_sentence_len(clean_scifi)\n",
        "max_sentence_length = max_sentence_len(clean_scifi)\n",
        "print(f\"Average sentence length: {average_sentence_length}\")\n",
        "print(f\"Maximum sentence length: {max_sentence_length}\")"
      ],
      "metadata": {
        "colab": {
          "base_uri": "https://localhost:8080/"
        },
        "id": "wWCqOyPaZ1FD",
        "outputId": "3a8ab5cc-41da-4e06-aa07-2c185a543012"
      },
      "execution_count": null,
      "outputs": [
        {
          "output_type": "stream",
          "name": "stdout",
          "text": [
            "Average sentence length: 12.755057726536492\n",
            "Maximum sentence length: 321\n"
          ]
        }
      ]
    },
    {
      "cell_type": "code",
      "source": [
        "# The unique characters in the file\n",
        "clean_vocab = sorted(set(clean_scifi))\n",
        "print(f'{len(clean_vocab)} unique characters')"
      ],
      "metadata": {
        "colab": {
          "base_uri": "https://localhost:8080/"
        },
        "id": "mQ215IHDY3zn",
        "outputId": "49f75367-adc4-4449-b801-847c67a40f6d"
      },
      "execution_count": null,
      "outputs": [
        {
          "output_type": "stream",
          "name": "stdout",
          "text": [
            "63 unique characters\n"
          ]
        }
      ]
    },
    {
      "cell_type": "code",
      "source": [
        "# Count how many words are in the text\n",
        "clean_word_count = len(clean_scifi.split(\" \"))\n",
        "print(\"The number of words in the text is:\", clean_word_count)"
      ],
      "metadata": {
        "colab": {
          "base_uri": "https://localhost:8080/"
        },
        "id": "KjXQQbzd8zPS",
        "outputId": "f9ddf2a3-59ff-46bf-8f70-82d027b607c4"
      },
      "execution_count": null,
      "outputs": [
        {
          "output_type": "stream",
          "name": "stdout",
          "text": [
            "The number of words in the text is: 27073809\n"
          ]
        }
      ]
    },
    {
      "cell_type": "markdown",
      "source": [
        "## Load Preprocessed Text: Tokenizer and DataCollator"
      ],
      "metadata": {
        "id": "1VE5c72zufxw"
      }
    },
    {
      "cell_type": "code",
      "source": [
        "# Load tokenizer\n",
        "tokenizer = GPT2Tokenizer.from_pretrained(\"gpt2\")"
      ],
      "metadata": {
        "colab": {
          "base_uri": "https://localhost:8080/",
          "height": 113,
          "referenced_widgets": [
            "7da84f68509449368c1a56fdda87ba29",
            "8a54cf5f3ac847d3acf3ef89d88a16ee",
            "34c737ffc4b84ea6ae77756d6b13174d",
            "27c41c3fa54b4867b7dc4ed4c93ff48b",
            "0513d3eb18f94305b70035a025c78772",
            "c13f33e3e4d541b4abe94791f92dda7c",
            "49598de291a346e6b43a786d0d115cfb",
            "7965c56406a24132a50180b159cfd82e",
            "fa4b39e55cb943fdafe6e89c830b50f9",
            "c8e3c2cb6ff34b50a9d01cff6ce6510e",
            "e21a2c1ec3ad420382b944f458fb268a",
            "676bafbc409d424e894cd3dbc58fd6e8",
            "b7bbc076c33d4642bf0331194091b308",
            "19bb48ab6a0647dfb0542d7d61541859",
            "c1ab84f4651c4c4e88f2926ad7774bb2",
            "f2f8fba4200844d4883d1169ba9f7be9",
            "bbff86d8545c4e65bcf5e5d989711851",
            "1eb0895e4f1544dba8d9beea0a7325dd",
            "5cd699e71aae4600864665334d53665b",
            "491e8a4e055f47339c00060c9e5a0041",
            "5fee715ad7ec4e8aa417c0780f40bef0",
            "8573312a0ac34c3590dc47e9d2890206",
            "6697c596a7db4763907c8868653985b8",
            "b0d9e58fd05547eb8092554238445496",
            "45a910b8374b4263aeef71089e3bb729",
            "884535d3bda74fa2b54d0fe7e7f0b3fb",
            "05fb9e3ab79647a48d2883bbe3db4470",
            "9d67016e6be0462d8741f48eb67885b6",
            "326e87a92ebd42b9aff74f28e60c867c",
            "99b8f01ad4f140baa1ae2b4e64ef89f2",
            "3bf0f8876feb400d9499960e43154887",
            "8dcd08f85c2f4a5198dae758cc100d83",
            "d161fceb155e415ca7659e1072098a1c"
          ]
        },
        "id": "8P3aXysPqmJQ",
        "outputId": "a55cda00-32cc-41b3-b4f8-6ce7b25e25f6"
      },
      "execution_count": null,
      "outputs": [
        {
          "output_type": "display_data",
          "data": {
            "text/plain": [
              "Downloading (…)olve/main/vocab.json:   0%|          | 0.00/1.04M [00:00<?, ?B/s]"
            ],
            "application/vnd.jupyter.widget-view+json": {
              "version_major": 2,
              "version_minor": 0,
              "model_id": "7da84f68509449368c1a56fdda87ba29"
            }
          },
          "metadata": {}
        },
        {
          "output_type": "display_data",
          "data": {
            "text/plain": [
              "Downloading (…)olve/main/merges.txt:   0%|          | 0.00/456k [00:00<?, ?B/s]"
            ],
            "application/vnd.jupyter.widget-view+json": {
              "version_major": 2,
              "version_minor": 0,
              "model_id": "676bafbc409d424e894cd3dbc58fd6e8"
            }
          },
          "metadata": {}
        },
        {
          "output_type": "display_data",
          "data": {
            "text/plain": [
              "Downloading (…)lve/main/config.json:   0%|          | 0.00/665 [00:00<?, ?B/s]"
            ],
            "application/vnd.jupyter.widget-view+json": {
              "version_major": 2,
              "version_minor": 0,
              "model_id": "6697c596a7db4763907c8868653985b8"
            }
          },
          "metadata": {}
        }
      ]
    },
    {
      "cell_type": "code",
      "source": [
        "# Check the tokenizer works as expected\n",
        "print('vocabulary size: %d, max squence length: %d' % (tokenizer.vocab_size, tokenizer.model_max_length))\n",
        "print('tokenize sequence \"I was smart enough to fool all the so-called brains of the Solar System.\":', tokenizer('I was smart enough to fool all the so-called brains of the Solar System.'))"
      ],
      "metadata": {
        "colab": {
          "base_uri": "https://localhost:8080/"
        },
        "id": "ClW-u4VVqszi",
        "outputId": "738a85e1-98be-4f2f-f93c-e1767af590a5"
      },
      "execution_count": null,
      "outputs": [
        {
          "output_type": "stream",
          "name": "stdout",
          "text": [
            "vocabulary size: 50257, max squence length: 1024\n",
            "tokenize sequence \"I was smart enough to fool all the so-called brains of the Solar System.\": {'input_ids': [40, 373, 4451, 1576, 284, 9192, 477, 262, 523, 12, 7174, 14290, 286, 262, 12347, 4482, 13], 'attention_mask': [1, 1, 1, 1, 1, 1, 1, 1, 1, 1, 1, 1, 1, 1, 1, 1, 1]}\n"
          ]
        }
      ]
    },
    {
      "cell_type": "code",
      "source": [
        "# Load in pre-processed text with tokenizer\n",
        "text = TextDataset(\n",
        "    tokenizer=tokenizer,\n",
        "    file_path='/content/gdrive/MyDrive/Colab Notebooks/CSC8637/SciFi/clean_scifi.txt',\n",
        "    block_size=128)"
      ],
      "metadata": {
        "id": "D9RFS8QbrKFy",
        "colab": {
          "base_uri": "https://localhost:8080/"
        },
        "outputId": "fda0ae2c-710c-4c05-c993-4ae3fa97988d"
      },
      "execution_count": null,
      "outputs": [
        {
          "output_type": "stream",
          "name": "stderr",
          "text": [
            "/usr/local/lib/python3.8/dist-packages/transformers/data/datasets/language_modeling.py:54: FutureWarning: This dataset will be removed from the library soon, preprocessing should be handled with the 🤗 Datasets library. You can have a look at this example script for pointers: https://github.com/huggingface/transformers/blob/main/examples/pytorch/language-modeling/run_mlm.py\n",
            "  warnings.warn(\n"
          ]
        }
      ]
    },
    {
      "cell_type": "code",
      "source": [
        "# Check it worked\n",
        "print(tokenizer.decode(text[5]))"
      ],
      "metadata": {
        "colab": {
          "base_uri": "https://localhost:8080/"
        },
        "id": "kG1hgygCrXt7",
        "outputId": "263f21f2-f119-4991-e93e-a18d62be1353"
      },
      "execution_count": null,
      "outputs": [
        {
          "output_type": "stream",
          "name": "stdout",
          "text": [
            " used would be a terrific hammer. The tack he drove would outshade other tacks by five country miles. And the picture? Gad, what a masterpiece! Seriously, one has only fo view Browne's enthusiasm for living to know it for what it is  a priceless gift. He has written unnumbered short stories and, under the name of John Evans, is the father of near future. We have watched him write several of his stories and he hurled himself into each with a zeal and a zest that sfunned us into a partial paralysis. So we give you Howard Browne, a hard fellow to classify ; an astounding mixture\n"
          ]
        }
      ]
    },
    {
      "cell_type": "code",
      "source": [
        "# Load a DataCollector to form batches from text\n",
        "data_collator = DataCollatorForLanguageModeling(tokenizer=tokenizer, mlm=False)"
      ],
      "metadata": {
        "id": "R9zBrpfCq-4j"
      },
      "execution_count": null,
      "outputs": []
    },
    {
      "cell_type": "markdown",
      "source": [
        "## Modelling"
      ],
      "metadata": {
        "id": "qCUR7Z1CvKR8"
      }
    },
    {
      "cell_type": "code",
      "source": [
        "# Set up model\n",
        "model = GPT2LMHeadModel.from_pretrained('gpt2')\n",
        "\n",
        "# Add two RNN layers\n",
        "model.resize_token_embeddings(len(tokenizer))\n",
        "model.output_hidden_states = True\n",
        "model.lstm1 = torch.nn.LSTM(input_size=model.config.hidden_size, hidden_size=512, num_layers=1, batch_first=True)\n",
        "model.lstm2 = torch.nn.LSTM(input_size=512, hidden_size=256, num_layers=1, batch_first=True)\n",
        "model.fc = torch.nn.Linear(in_features=256, out_features=len(tokenizer))"
      ],
      "metadata": {
        "id": "1MJAs5l6skDd"
      },
      "execution_count": null,
      "outputs": []
    },
    {
      "cell_type": "code",
      "source": [
        "# Define the training arguments\n",
        "training_args = TrainingArguments(\n",
        "    output_dir = '/content/gdrive/MyDrive/Colab Notebooks/CSC8637/models/gpt2_adjustme', # the output directory for the model predictions and checkpoints\n",
        "    overwrite_output_dir = True, # overwrite the content of the output directory\n",
        "    per_device_train_batch_size = 32, # the batch size for training\n",
        "    per_device_eval_batch_size = 32, # the batch size for evaluation\n",
        "    learning_rate = 5e-5, # defaults to 5e-5\n",
        "    num_train_epochs = 3, # total number of training epochs to perform\n",
        ")"
      ],
      "metadata": {
        "id": "TTxirM5Srm1Y",
        "colab": {
          "base_uri": "https://localhost:8080/"
        },
        "outputId": "cf600fda-86bf-4f5f-a789-91e6188c2ebd"
      },
      "execution_count": null,
      "outputs": [
        {
          "output_type": "stream",
          "name": "stderr",
          "text": [
            "PyTorch: setting up devices\n",
            "The default value for the training argument `--report_to` will change in v5 (from all installed integrations to none). In v5, you will need to use `--report_to all` to get the same behavior as now. You should start updating your code and make this info disappear :-).\n"
          ]
        }
      ]
    },
    {
      "cell_type": "code",
      "source": [
        "# Define the training parameters\n",
        "trainer = Trainer(\n",
        "    model = model,\n",
        "    args = training_args,\n",
        "    data_collator=data_collator,\n",
        "    train_dataset = text\n",
        ")"
      ],
      "metadata": {
        "id": "dZHv9PwQrysC"
      },
      "execution_count": null,
      "outputs": []
    },
    {
      "cell_type": "code",
      "source": [
        "# Train the model\n",
        "trainer.train()"
      ],
      "metadata": {
        "colab": {
          "base_uri": "https://localhost:8080/",
          "height": 1000
        },
        "id": "YjE4Wgr_r37L",
        "outputId": "e0d2c415-8063-4985-9f97-6895dda37d93"
      },
      "execution_count": null,
      "outputs": [
        {
          "output_type": "stream",
          "name": "stderr",
          "text": [
            "/usr/local/lib/python3.8/dist-packages/transformers/optimization.py:306: FutureWarning: This implementation of AdamW is deprecated and will be removed in a future version. Use the PyTorch implementation torch.optim.AdamW instead, or set `no_deprecation_warning=True` to disable this warning\n",
            "  warnings.warn(\n",
            "***** Running training *****\n",
            "  Num examples = 268819\n",
            "  Num Epochs = 3\n",
            "  Instantaneous batch size per device = 32\n",
            "  Total train batch size (w. parallel, distributed & accumulation) = 32\n",
            "  Gradient Accumulation steps = 1\n",
            "  Total optimization steps = 25203\n",
            "  Number of trainable parameters = 140769873\n"
          ]
        },
        {
          "output_type": "display_data",
          "data": {
            "text/plain": [
              "<IPython.core.display.HTML object>"
            ],
            "text/html": [
              "\n",
              "    <div>\n",
              "      \n",
              "      <progress value='25203' max='25203' style='width:300px; height:20px; vertical-align: middle;'></progress>\n",
              "      [25203/25203 1:48:45, Epoch 3/3]\n",
              "    </div>\n",
              "    <table border=\"1\" class=\"dataframe\">\n",
              "  <thead>\n",
              " <tr style=\"text-align: left;\">\n",
              "      <th>Step</th>\n",
              "      <th>Training Loss</th>\n",
              "    </tr>\n",
              "  </thead>\n",
              "  <tbody>\n",
              "    <tr>\n",
              "      <td>500</td>\n",
              "      <td>3.723900</td>\n",
              "    </tr>\n",
              "    <tr>\n",
              "      <td>1000</td>\n",
              "      <td>3.717300</td>\n",
              "    </tr>\n",
              "    <tr>\n",
              "      <td>1500</td>\n",
              "      <td>3.710400</td>\n",
              "    </tr>\n",
              "    <tr>\n",
              "      <td>2000</td>\n",
              "      <td>3.713800</td>\n",
              "    </tr>\n",
              "    <tr>\n",
              "      <td>2500</td>\n",
              "      <td>3.714900</td>\n",
              "    </tr>\n",
              "    <tr>\n",
              "      <td>3000</td>\n",
              "      <td>3.712900</td>\n",
              "    </tr>\n",
              "    <tr>\n",
              "      <td>3500</td>\n",
              "      <td>3.710100</td>\n",
              "    </tr>\n",
              "    <tr>\n",
              "      <td>4000</td>\n",
              "      <td>3.715600</td>\n",
              "    </tr>\n",
              "    <tr>\n",
              "      <td>4500</td>\n",
              "      <td>3.715100</td>\n",
              "    </tr>\n",
              "    <tr>\n",
              "      <td>5000</td>\n",
              "      <td>3.713700</td>\n",
              "    </tr>\n",
              "    <tr>\n",
              "      <td>5500</td>\n",
              "      <td>3.723100</td>\n",
              "    </tr>\n",
              "    <tr>\n",
              "      <td>6000</td>\n",
              "      <td>3.716900</td>\n",
              "    </tr>\n",
              "    <tr>\n",
              "      <td>6500</td>\n",
              "      <td>3.721100</td>\n",
              "    </tr>\n",
              "    <tr>\n",
              "      <td>7000</td>\n",
              "      <td>3.724800</td>\n",
              "    </tr>\n",
              "    <tr>\n",
              "      <td>7500</td>\n",
              "      <td>3.723700</td>\n",
              "    </tr>\n",
              "    <tr>\n",
              "      <td>8000</td>\n",
              "      <td>3.716200</td>\n",
              "    </tr>\n",
              "    <tr>\n",
              "      <td>8500</td>\n",
              "      <td>3.710600</td>\n",
              "    </tr>\n",
              "    <tr>\n",
              "      <td>9000</td>\n",
              "      <td>3.683100</td>\n",
              "    </tr>\n",
              "    <tr>\n",
              "      <td>9500</td>\n",
              "      <td>3.688900</td>\n",
              "    </tr>\n",
              "    <tr>\n",
              "      <td>10000</td>\n",
              "      <td>3.690400</td>\n",
              "    </tr>\n",
              "    <tr>\n",
              "      <td>10500</td>\n",
              "      <td>3.689600</td>\n",
              "    </tr>\n",
              "    <tr>\n",
              "      <td>11000</td>\n",
              "      <td>3.695400</td>\n",
              "    </tr>\n",
              "    <tr>\n",
              "      <td>11500</td>\n",
              "      <td>3.697400</td>\n",
              "    </tr>\n",
              "    <tr>\n",
              "      <td>12000</td>\n",
              "      <td>3.698400</td>\n",
              "    </tr>\n",
              "    <tr>\n",
              "      <td>12500</td>\n",
              "      <td>3.692600</td>\n",
              "    </tr>\n",
              "    <tr>\n",
              "      <td>13000</td>\n",
              "      <td>3.702200</td>\n",
              "    </tr>\n",
              "    <tr>\n",
              "      <td>13500</td>\n",
              "      <td>3.699900</td>\n",
              "    </tr>\n",
              "    <tr>\n",
              "      <td>14000</td>\n",
              "      <td>3.696800</td>\n",
              "    </tr>\n",
              "    <tr>\n",
              "      <td>14500</td>\n",
              "      <td>3.707700</td>\n",
              "    </tr>\n",
              "    <tr>\n",
              "      <td>15000</td>\n",
              "      <td>3.702400</td>\n",
              "    </tr>\n",
              "    <tr>\n",
              "      <td>15500</td>\n",
              "      <td>3.712900</td>\n",
              "    </tr>\n",
              "    <tr>\n",
              "      <td>16000</td>\n",
              "      <td>3.707000</td>\n",
              "    </tr>\n",
              "    <tr>\n",
              "      <td>16500</td>\n",
              "      <td>3.710000</td>\n",
              "    </tr>\n",
              "    <tr>\n",
              "      <td>17000</td>\n",
              "      <td>3.705300</td>\n",
              "    </tr>\n",
              "    <tr>\n",
              "      <td>17500</td>\n",
              "      <td>3.681900</td>\n",
              "    </tr>\n",
              "    <tr>\n",
              "      <td>18000</td>\n",
              "      <td>3.684800</td>\n",
              "    </tr>\n",
              "    <tr>\n",
              "      <td>18500</td>\n",
              "      <td>3.686200</td>\n",
              "    </tr>\n",
              "    <tr>\n",
              "      <td>19000</td>\n",
              "      <td>3.688600</td>\n",
              "    </tr>\n",
              "    <tr>\n",
              "      <td>19500</td>\n",
              "      <td>3.682700</td>\n",
              "    </tr>\n",
              "    <tr>\n",
              "      <td>20000</td>\n",
              "      <td>3.686300</td>\n",
              "    </tr>\n",
              "    <tr>\n",
              "      <td>20500</td>\n",
              "      <td>3.698600</td>\n",
              "    </tr>\n",
              "    <tr>\n",
              "      <td>21000</td>\n",
              "      <td>3.692600</td>\n",
              "    </tr>\n",
              "    <tr>\n",
              "      <td>21500</td>\n",
              "      <td>3.705100</td>\n",
              "    </tr>\n",
              "    <tr>\n",
              "      <td>22000</td>\n",
              "      <td>3.697600</td>\n",
              "    </tr>\n",
              "    <tr>\n",
              "      <td>22500</td>\n",
              "      <td>3.697700</td>\n",
              "    </tr>\n",
              "    <tr>\n",
              "      <td>23000</td>\n",
              "      <td>3.705800</td>\n",
              "    </tr>\n",
              "    <tr>\n",
              "      <td>23500</td>\n",
              "      <td>3.714400</td>\n",
              "    </tr>\n",
              "    <tr>\n",
              "      <td>24000</td>\n",
              "      <td>3.708900</td>\n",
              "    </tr>\n",
              "    <tr>\n",
              "      <td>24500</td>\n",
              "      <td>3.707400</td>\n",
              "    </tr>\n",
              "    <tr>\n",
              "      <td>25000</td>\n",
              "      <td>3.709800</td>\n",
              "    </tr>\n",
              "  </tbody>\n",
              "</table><p>"
            ]
          },
          "metadata": {}
        },
        {
          "output_type": "stream",
          "name": "stderr",
          "text": [
            "Saving model checkpoint to /content/gdrive/MyDrive/Colab Notebooks/CSC8637/models/gpt2_2e-5/checkpoint-500\n",
            "Configuration saved in /content/gdrive/MyDrive/Colab Notebooks/CSC8637/models/gpt2_2e-5/checkpoint-500/config.json\n",
            "Configuration saved in /content/gdrive/MyDrive/Colab Notebooks/CSC8637/models/gpt2_2e-5/checkpoint-500/generation_config.json\n",
            "Model weights saved in /content/gdrive/MyDrive/Colab Notebooks/CSC8637/models/gpt2_2e-5/checkpoint-500/pytorch_model.bin\n",
            "Saving model checkpoint to /content/gdrive/MyDrive/Colab Notebooks/CSC8637/models/gpt2_2e-5/checkpoint-1000\n",
            "Configuration saved in /content/gdrive/MyDrive/Colab Notebooks/CSC8637/models/gpt2_2e-5/checkpoint-1000/config.json\n",
            "Configuration saved in /content/gdrive/MyDrive/Colab Notebooks/CSC8637/models/gpt2_2e-5/checkpoint-1000/generation_config.json\n",
            "Model weights saved in /content/gdrive/MyDrive/Colab Notebooks/CSC8637/models/gpt2_2e-5/checkpoint-1000/pytorch_model.bin\n",
            "Saving model checkpoint to /content/gdrive/MyDrive/Colab Notebooks/CSC8637/models/gpt2_2e-5/checkpoint-1500\n",
            "Configuration saved in /content/gdrive/MyDrive/Colab Notebooks/CSC8637/models/gpt2_2e-5/checkpoint-1500/config.json\n",
            "Configuration saved in /content/gdrive/MyDrive/Colab Notebooks/CSC8637/models/gpt2_2e-5/checkpoint-1500/generation_config.json\n",
            "Model weights saved in /content/gdrive/MyDrive/Colab Notebooks/CSC8637/models/gpt2_2e-5/checkpoint-1500/pytorch_model.bin\n",
            "Saving model checkpoint to /content/gdrive/MyDrive/Colab Notebooks/CSC8637/models/gpt2_2e-5/checkpoint-2000\n",
            "Configuration saved in /content/gdrive/MyDrive/Colab Notebooks/CSC8637/models/gpt2_2e-5/checkpoint-2000/config.json\n",
            "Configuration saved in /content/gdrive/MyDrive/Colab Notebooks/CSC8637/models/gpt2_2e-5/checkpoint-2000/generation_config.json\n",
            "Model weights saved in /content/gdrive/MyDrive/Colab Notebooks/CSC8637/models/gpt2_2e-5/checkpoint-2000/pytorch_model.bin\n",
            "Saving model checkpoint to /content/gdrive/MyDrive/Colab Notebooks/CSC8637/models/gpt2_2e-5/checkpoint-2500\n",
            "Configuration saved in /content/gdrive/MyDrive/Colab Notebooks/CSC8637/models/gpt2_2e-5/checkpoint-2500/config.json\n",
            "Configuration saved in /content/gdrive/MyDrive/Colab Notebooks/CSC8637/models/gpt2_2e-5/checkpoint-2500/generation_config.json\n",
            "Model weights saved in /content/gdrive/MyDrive/Colab Notebooks/CSC8637/models/gpt2_2e-5/checkpoint-2500/pytorch_model.bin\n",
            "Saving model checkpoint to /content/gdrive/MyDrive/Colab Notebooks/CSC8637/models/gpt2_2e-5/checkpoint-3000\n",
            "Configuration saved in /content/gdrive/MyDrive/Colab Notebooks/CSC8637/models/gpt2_2e-5/checkpoint-3000/config.json\n",
            "Configuration saved in /content/gdrive/MyDrive/Colab Notebooks/CSC8637/models/gpt2_2e-5/checkpoint-3000/generation_config.json\n",
            "Model weights saved in /content/gdrive/MyDrive/Colab Notebooks/CSC8637/models/gpt2_2e-5/checkpoint-3000/pytorch_model.bin\n",
            "Saving model checkpoint to /content/gdrive/MyDrive/Colab Notebooks/CSC8637/models/gpt2_2e-5/checkpoint-3500\n",
            "Configuration saved in /content/gdrive/MyDrive/Colab Notebooks/CSC8637/models/gpt2_2e-5/checkpoint-3500/config.json\n",
            "Configuration saved in /content/gdrive/MyDrive/Colab Notebooks/CSC8637/models/gpt2_2e-5/checkpoint-3500/generation_config.json\n",
            "Model weights saved in /content/gdrive/MyDrive/Colab Notebooks/CSC8637/models/gpt2_2e-5/checkpoint-3500/pytorch_model.bin\n",
            "Saving model checkpoint to /content/gdrive/MyDrive/Colab Notebooks/CSC8637/models/gpt2_2e-5/checkpoint-4000\n",
            "Configuration saved in /content/gdrive/MyDrive/Colab Notebooks/CSC8637/models/gpt2_2e-5/checkpoint-4000/config.json\n",
            "Configuration saved in /content/gdrive/MyDrive/Colab Notebooks/CSC8637/models/gpt2_2e-5/checkpoint-4000/generation_config.json\n",
            "Model weights saved in /content/gdrive/MyDrive/Colab Notebooks/CSC8637/models/gpt2_2e-5/checkpoint-4000/pytorch_model.bin\n",
            "Saving model checkpoint to /content/gdrive/MyDrive/Colab Notebooks/CSC8637/models/gpt2_2e-5/checkpoint-4500\n",
            "Configuration saved in /content/gdrive/MyDrive/Colab Notebooks/CSC8637/models/gpt2_2e-5/checkpoint-4500/config.json\n",
            "Configuration saved in /content/gdrive/MyDrive/Colab Notebooks/CSC8637/models/gpt2_2e-5/checkpoint-4500/generation_config.json\n",
            "Model weights saved in /content/gdrive/MyDrive/Colab Notebooks/CSC8637/models/gpt2_2e-5/checkpoint-4500/pytorch_model.bin\n",
            "Saving model checkpoint to /content/gdrive/MyDrive/Colab Notebooks/CSC8637/models/gpt2_2e-5/checkpoint-5000\n",
            "Configuration saved in /content/gdrive/MyDrive/Colab Notebooks/CSC8637/models/gpt2_2e-5/checkpoint-5000/config.json\n",
            "Configuration saved in /content/gdrive/MyDrive/Colab Notebooks/CSC8637/models/gpt2_2e-5/checkpoint-5000/generation_config.json\n",
            "Model weights saved in /content/gdrive/MyDrive/Colab Notebooks/CSC8637/models/gpt2_2e-5/checkpoint-5000/pytorch_model.bin\n",
            "Saving model checkpoint to /content/gdrive/MyDrive/Colab Notebooks/CSC8637/models/gpt2_2e-5/checkpoint-5500\n",
            "Configuration saved in /content/gdrive/MyDrive/Colab Notebooks/CSC8637/models/gpt2_2e-5/checkpoint-5500/config.json\n",
            "Configuration saved in /content/gdrive/MyDrive/Colab Notebooks/CSC8637/models/gpt2_2e-5/checkpoint-5500/generation_config.json\n",
            "Model weights saved in /content/gdrive/MyDrive/Colab Notebooks/CSC8637/models/gpt2_2e-5/checkpoint-5500/pytorch_model.bin\n",
            "Saving model checkpoint to /content/gdrive/MyDrive/Colab Notebooks/CSC8637/models/gpt2_2e-5/checkpoint-6000\n",
            "Configuration saved in /content/gdrive/MyDrive/Colab Notebooks/CSC8637/models/gpt2_2e-5/checkpoint-6000/config.json\n",
            "Configuration saved in /content/gdrive/MyDrive/Colab Notebooks/CSC8637/models/gpt2_2e-5/checkpoint-6000/generation_config.json\n",
            "Model weights saved in /content/gdrive/MyDrive/Colab Notebooks/CSC8637/models/gpt2_2e-5/checkpoint-6000/pytorch_model.bin\n",
            "Saving model checkpoint to /content/gdrive/MyDrive/Colab Notebooks/CSC8637/models/gpt2_2e-5/checkpoint-6500\n",
            "Configuration saved in /content/gdrive/MyDrive/Colab Notebooks/CSC8637/models/gpt2_2e-5/checkpoint-6500/config.json\n",
            "Configuration saved in /content/gdrive/MyDrive/Colab Notebooks/CSC8637/models/gpt2_2e-5/checkpoint-6500/generation_config.json\n",
            "Model weights saved in /content/gdrive/MyDrive/Colab Notebooks/CSC8637/models/gpt2_2e-5/checkpoint-6500/pytorch_model.bin\n",
            "Saving model checkpoint to /content/gdrive/MyDrive/Colab Notebooks/CSC8637/models/gpt2_2e-5/checkpoint-7000\n",
            "Configuration saved in /content/gdrive/MyDrive/Colab Notebooks/CSC8637/models/gpt2_2e-5/checkpoint-7000/config.json\n",
            "Configuration saved in /content/gdrive/MyDrive/Colab Notebooks/CSC8637/models/gpt2_2e-5/checkpoint-7000/generation_config.json\n",
            "Model weights saved in /content/gdrive/MyDrive/Colab Notebooks/CSC8637/models/gpt2_2e-5/checkpoint-7000/pytorch_model.bin\n",
            "Saving model checkpoint to /content/gdrive/MyDrive/Colab Notebooks/CSC8637/models/gpt2_2e-5/checkpoint-7500\n",
            "Configuration saved in /content/gdrive/MyDrive/Colab Notebooks/CSC8637/models/gpt2_2e-5/checkpoint-7500/config.json\n",
            "Configuration saved in /content/gdrive/MyDrive/Colab Notebooks/CSC8637/models/gpt2_2e-5/checkpoint-7500/generation_config.json\n",
            "Model weights saved in /content/gdrive/MyDrive/Colab Notebooks/CSC8637/models/gpt2_2e-5/checkpoint-7500/pytorch_model.bin\n",
            "Saving model checkpoint to /content/gdrive/MyDrive/Colab Notebooks/CSC8637/models/gpt2_2e-5/checkpoint-8000\n",
            "Configuration saved in /content/gdrive/MyDrive/Colab Notebooks/CSC8637/models/gpt2_2e-5/checkpoint-8000/config.json\n",
            "Configuration saved in /content/gdrive/MyDrive/Colab Notebooks/CSC8637/models/gpt2_2e-5/checkpoint-8000/generation_config.json\n",
            "Model weights saved in /content/gdrive/MyDrive/Colab Notebooks/CSC8637/models/gpt2_2e-5/checkpoint-8000/pytorch_model.bin\n",
            "Saving model checkpoint to /content/gdrive/MyDrive/Colab Notebooks/CSC8637/models/gpt2_2e-5/checkpoint-8500\n",
            "Configuration saved in /content/gdrive/MyDrive/Colab Notebooks/CSC8637/models/gpt2_2e-5/checkpoint-8500/config.json\n",
            "Configuration saved in /content/gdrive/MyDrive/Colab Notebooks/CSC8637/models/gpt2_2e-5/checkpoint-8500/generation_config.json\n",
            "Model weights saved in /content/gdrive/MyDrive/Colab Notebooks/CSC8637/models/gpt2_2e-5/checkpoint-8500/pytorch_model.bin\n",
            "Saving model checkpoint to /content/gdrive/MyDrive/Colab Notebooks/CSC8637/models/gpt2_2e-5/checkpoint-9000\n",
            "Configuration saved in /content/gdrive/MyDrive/Colab Notebooks/CSC8637/models/gpt2_2e-5/checkpoint-9000/config.json\n",
            "Configuration saved in /content/gdrive/MyDrive/Colab Notebooks/CSC8637/models/gpt2_2e-5/checkpoint-9000/generation_config.json\n",
            "Model weights saved in /content/gdrive/MyDrive/Colab Notebooks/CSC8637/models/gpt2_2e-5/checkpoint-9000/pytorch_model.bin\n",
            "Saving model checkpoint to /content/gdrive/MyDrive/Colab Notebooks/CSC8637/models/gpt2_2e-5/checkpoint-9500\n",
            "Configuration saved in /content/gdrive/MyDrive/Colab Notebooks/CSC8637/models/gpt2_2e-5/checkpoint-9500/config.json\n",
            "Configuration saved in /content/gdrive/MyDrive/Colab Notebooks/CSC8637/models/gpt2_2e-5/checkpoint-9500/generation_config.json\n",
            "Model weights saved in /content/gdrive/MyDrive/Colab Notebooks/CSC8637/models/gpt2_2e-5/checkpoint-9500/pytorch_model.bin\n",
            "Saving model checkpoint to /content/gdrive/MyDrive/Colab Notebooks/CSC8637/models/gpt2_2e-5/checkpoint-10000\n",
            "Configuration saved in /content/gdrive/MyDrive/Colab Notebooks/CSC8637/models/gpt2_2e-5/checkpoint-10000/config.json\n",
            "Configuration saved in /content/gdrive/MyDrive/Colab Notebooks/CSC8637/models/gpt2_2e-5/checkpoint-10000/generation_config.json\n",
            "Model weights saved in /content/gdrive/MyDrive/Colab Notebooks/CSC8637/models/gpt2_2e-5/checkpoint-10000/pytorch_model.bin\n",
            "Saving model checkpoint to /content/gdrive/MyDrive/Colab Notebooks/CSC8637/models/gpt2_2e-5/checkpoint-10500\n",
            "Configuration saved in /content/gdrive/MyDrive/Colab Notebooks/CSC8637/models/gpt2_2e-5/checkpoint-10500/config.json\n",
            "Configuration saved in /content/gdrive/MyDrive/Colab Notebooks/CSC8637/models/gpt2_2e-5/checkpoint-10500/generation_config.json\n",
            "Model weights saved in /content/gdrive/MyDrive/Colab Notebooks/CSC8637/models/gpt2_2e-5/checkpoint-10500/pytorch_model.bin\n",
            "Saving model checkpoint to /content/gdrive/MyDrive/Colab Notebooks/CSC8637/models/gpt2_2e-5/checkpoint-11000\n",
            "Configuration saved in /content/gdrive/MyDrive/Colab Notebooks/CSC8637/models/gpt2_2e-5/checkpoint-11000/config.json\n",
            "Configuration saved in /content/gdrive/MyDrive/Colab Notebooks/CSC8637/models/gpt2_2e-5/checkpoint-11000/generation_config.json\n",
            "Model weights saved in /content/gdrive/MyDrive/Colab Notebooks/CSC8637/models/gpt2_2e-5/checkpoint-11000/pytorch_model.bin\n",
            "Saving model checkpoint to /content/gdrive/MyDrive/Colab Notebooks/CSC8637/models/gpt2_2e-5/checkpoint-11500\n",
            "Configuration saved in /content/gdrive/MyDrive/Colab Notebooks/CSC8637/models/gpt2_2e-5/checkpoint-11500/config.json\n",
            "Configuration saved in /content/gdrive/MyDrive/Colab Notebooks/CSC8637/models/gpt2_2e-5/checkpoint-11500/generation_config.json\n",
            "Model weights saved in /content/gdrive/MyDrive/Colab Notebooks/CSC8637/models/gpt2_2e-5/checkpoint-11500/pytorch_model.bin\n",
            "Saving model checkpoint to /content/gdrive/MyDrive/Colab Notebooks/CSC8637/models/gpt2_2e-5/checkpoint-12000\n",
            "Configuration saved in /content/gdrive/MyDrive/Colab Notebooks/CSC8637/models/gpt2_2e-5/checkpoint-12000/config.json\n",
            "Configuration saved in /content/gdrive/MyDrive/Colab Notebooks/CSC8637/models/gpt2_2e-5/checkpoint-12000/generation_config.json\n",
            "Model weights saved in /content/gdrive/MyDrive/Colab Notebooks/CSC8637/models/gpt2_2e-5/checkpoint-12000/pytorch_model.bin\n",
            "Saving model checkpoint to /content/gdrive/MyDrive/Colab Notebooks/CSC8637/models/gpt2_2e-5/checkpoint-12500\n",
            "Configuration saved in /content/gdrive/MyDrive/Colab Notebooks/CSC8637/models/gpt2_2e-5/checkpoint-12500/config.json\n",
            "Configuration saved in /content/gdrive/MyDrive/Colab Notebooks/CSC8637/models/gpt2_2e-5/checkpoint-12500/generation_config.json\n",
            "Model weights saved in /content/gdrive/MyDrive/Colab Notebooks/CSC8637/models/gpt2_2e-5/checkpoint-12500/pytorch_model.bin\n",
            "Saving model checkpoint to /content/gdrive/MyDrive/Colab Notebooks/CSC8637/models/gpt2_2e-5/checkpoint-13000\n",
            "Configuration saved in /content/gdrive/MyDrive/Colab Notebooks/CSC8637/models/gpt2_2e-5/checkpoint-13000/config.json\n",
            "Configuration saved in /content/gdrive/MyDrive/Colab Notebooks/CSC8637/models/gpt2_2e-5/checkpoint-13000/generation_config.json\n",
            "Model weights saved in /content/gdrive/MyDrive/Colab Notebooks/CSC8637/models/gpt2_2e-5/checkpoint-13000/pytorch_model.bin\n",
            "Saving model checkpoint to /content/gdrive/MyDrive/Colab Notebooks/CSC8637/models/gpt2_2e-5/checkpoint-13500\n",
            "Configuration saved in /content/gdrive/MyDrive/Colab Notebooks/CSC8637/models/gpt2_2e-5/checkpoint-13500/config.json\n",
            "Configuration saved in /content/gdrive/MyDrive/Colab Notebooks/CSC8637/models/gpt2_2e-5/checkpoint-13500/generation_config.json\n",
            "Model weights saved in /content/gdrive/MyDrive/Colab Notebooks/CSC8637/models/gpt2_2e-5/checkpoint-13500/pytorch_model.bin\n",
            "Saving model checkpoint to /content/gdrive/MyDrive/Colab Notebooks/CSC8637/models/gpt2_2e-5/checkpoint-14000\n",
            "Configuration saved in /content/gdrive/MyDrive/Colab Notebooks/CSC8637/models/gpt2_2e-5/checkpoint-14000/config.json\n",
            "Configuration saved in /content/gdrive/MyDrive/Colab Notebooks/CSC8637/models/gpt2_2e-5/checkpoint-14000/generation_config.json\n",
            "Model weights saved in /content/gdrive/MyDrive/Colab Notebooks/CSC8637/models/gpt2_2e-5/checkpoint-14000/pytorch_model.bin\n",
            "Saving model checkpoint to /content/gdrive/MyDrive/Colab Notebooks/CSC8637/models/gpt2_2e-5/checkpoint-14500\n",
            "Configuration saved in /content/gdrive/MyDrive/Colab Notebooks/CSC8637/models/gpt2_2e-5/checkpoint-14500/config.json\n",
            "Configuration saved in /content/gdrive/MyDrive/Colab Notebooks/CSC8637/models/gpt2_2e-5/checkpoint-14500/generation_config.json\n",
            "Model weights saved in /content/gdrive/MyDrive/Colab Notebooks/CSC8637/models/gpt2_2e-5/checkpoint-14500/pytorch_model.bin\n",
            "Saving model checkpoint to /content/gdrive/MyDrive/Colab Notebooks/CSC8637/models/gpt2_2e-5/checkpoint-15000\n",
            "Configuration saved in /content/gdrive/MyDrive/Colab Notebooks/CSC8637/models/gpt2_2e-5/checkpoint-15000/config.json\n",
            "Configuration saved in /content/gdrive/MyDrive/Colab Notebooks/CSC8637/models/gpt2_2e-5/checkpoint-15000/generation_config.json\n",
            "Model weights saved in /content/gdrive/MyDrive/Colab Notebooks/CSC8637/models/gpt2_2e-5/checkpoint-15000/pytorch_model.bin\n",
            "Saving model checkpoint to /content/gdrive/MyDrive/Colab Notebooks/CSC8637/models/gpt2_2e-5/checkpoint-15500\n",
            "Configuration saved in /content/gdrive/MyDrive/Colab Notebooks/CSC8637/models/gpt2_2e-5/checkpoint-15500/config.json\n",
            "Configuration saved in /content/gdrive/MyDrive/Colab Notebooks/CSC8637/models/gpt2_2e-5/checkpoint-15500/generation_config.json\n",
            "Model weights saved in /content/gdrive/MyDrive/Colab Notebooks/CSC8637/models/gpt2_2e-5/checkpoint-15500/pytorch_model.bin\n",
            "Saving model checkpoint to /content/gdrive/MyDrive/Colab Notebooks/CSC8637/models/gpt2_2e-5/checkpoint-16000\n",
            "Configuration saved in /content/gdrive/MyDrive/Colab Notebooks/CSC8637/models/gpt2_2e-5/checkpoint-16000/config.json\n",
            "Configuration saved in /content/gdrive/MyDrive/Colab Notebooks/CSC8637/models/gpt2_2e-5/checkpoint-16000/generation_config.json\n",
            "Model weights saved in /content/gdrive/MyDrive/Colab Notebooks/CSC8637/models/gpt2_2e-5/checkpoint-16000/pytorch_model.bin\n",
            "Saving model checkpoint to /content/gdrive/MyDrive/Colab Notebooks/CSC8637/models/gpt2_2e-5/checkpoint-16500\n",
            "Configuration saved in /content/gdrive/MyDrive/Colab Notebooks/CSC8637/models/gpt2_2e-5/checkpoint-16500/config.json\n",
            "Configuration saved in /content/gdrive/MyDrive/Colab Notebooks/CSC8637/models/gpt2_2e-5/checkpoint-16500/generation_config.json\n",
            "Model weights saved in /content/gdrive/MyDrive/Colab Notebooks/CSC8637/models/gpt2_2e-5/checkpoint-16500/pytorch_model.bin\n",
            "Saving model checkpoint to /content/gdrive/MyDrive/Colab Notebooks/CSC8637/models/gpt2_2e-5/checkpoint-17000\n",
            "Configuration saved in /content/gdrive/MyDrive/Colab Notebooks/CSC8637/models/gpt2_2e-5/checkpoint-17000/config.json\n",
            "Configuration saved in /content/gdrive/MyDrive/Colab Notebooks/CSC8637/models/gpt2_2e-5/checkpoint-17000/generation_config.json\n",
            "Model weights saved in /content/gdrive/MyDrive/Colab Notebooks/CSC8637/models/gpt2_2e-5/checkpoint-17000/pytorch_model.bin\n",
            "Saving model checkpoint to /content/gdrive/MyDrive/Colab Notebooks/CSC8637/models/gpt2_2e-5/checkpoint-17500\n",
            "Configuration saved in /content/gdrive/MyDrive/Colab Notebooks/CSC8637/models/gpt2_2e-5/checkpoint-17500/config.json\n",
            "Configuration saved in /content/gdrive/MyDrive/Colab Notebooks/CSC8637/models/gpt2_2e-5/checkpoint-17500/generation_config.json\n",
            "Model weights saved in /content/gdrive/MyDrive/Colab Notebooks/CSC8637/models/gpt2_2e-5/checkpoint-17500/pytorch_model.bin\n",
            "Saving model checkpoint to /content/gdrive/MyDrive/Colab Notebooks/CSC8637/models/gpt2_2e-5/checkpoint-18000\n",
            "Configuration saved in /content/gdrive/MyDrive/Colab Notebooks/CSC8637/models/gpt2_2e-5/checkpoint-18000/config.json\n",
            "Configuration saved in /content/gdrive/MyDrive/Colab Notebooks/CSC8637/models/gpt2_2e-5/checkpoint-18000/generation_config.json\n",
            "Model weights saved in /content/gdrive/MyDrive/Colab Notebooks/CSC8637/models/gpt2_2e-5/checkpoint-18000/pytorch_model.bin\n",
            "Saving model checkpoint to /content/gdrive/MyDrive/Colab Notebooks/CSC8637/models/gpt2_2e-5/checkpoint-18500\n",
            "Configuration saved in /content/gdrive/MyDrive/Colab Notebooks/CSC8637/models/gpt2_2e-5/checkpoint-18500/config.json\n",
            "Configuration saved in /content/gdrive/MyDrive/Colab Notebooks/CSC8637/models/gpt2_2e-5/checkpoint-18500/generation_config.json\n",
            "Model weights saved in /content/gdrive/MyDrive/Colab Notebooks/CSC8637/models/gpt2_2e-5/checkpoint-18500/pytorch_model.bin\n",
            "Saving model checkpoint to /content/gdrive/MyDrive/Colab Notebooks/CSC8637/models/gpt2_2e-5/checkpoint-19000\n",
            "Configuration saved in /content/gdrive/MyDrive/Colab Notebooks/CSC8637/models/gpt2_2e-5/checkpoint-19000/config.json\n",
            "Configuration saved in /content/gdrive/MyDrive/Colab Notebooks/CSC8637/models/gpt2_2e-5/checkpoint-19000/generation_config.json\n",
            "Model weights saved in /content/gdrive/MyDrive/Colab Notebooks/CSC8637/models/gpt2_2e-5/checkpoint-19000/pytorch_model.bin\n",
            "Saving model checkpoint to /content/gdrive/MyDrive/Colab Notebooks/CSC8637/models/gpt2_2e-5/checkpoint-19500\n",
            "Configuration saved in /content/gdrive/MyDrive/Colab Notebooks/CSC8637/models/gpt2_2e-5/checkpoint-19500/config.json\n",
            "Configuration saved in /content/gdrive/MyDrive/Colab Notebooks/CSC8637/models/gpt2_2e-5/checkpoint-19500/generation_config.json\n",
            "Model weights saved in /content/gdrive/MyDrive/Colab Notebooks/CSC8637/models/gpt2_2e-5/checkpoint-19500/pytorch_model.bin\n",
            "Saving model checkpoint to /content/gdrive/MyDrive/Colab Notebooks/CSC8637/models/gpt2_2e-5/checkpoint-20000\n",
            "Configuration saved in /content/gdrive/MyDrive/Colab Notebooks/CSC8637/models/gpt2_2e-5/checkpoint-20000/config.json\n",
            "Configuration saved in /content/gdrive/MyDrive/Colab Notebooks/CSC8637/models/gpt2_2e-5/checkpoint-20000/generation_config.json\n",
            "Model weights saved in /content/gdrive/MyDrive/Colab Notebooks/CSC8637/models/gpt2_2e-5/checkpoint-20000/pytorch_model.bin\n",
            "Saving model checkpoint to /content/gdrive/MyDrive/Colab Notebooks/CSC8637/models/gpt2_2e-5/checkpoint-20500\n",
            "Configuration saved in /content/gdrive/MyDrive/Colab Notebooks/CSC8637/models/gpt2_2e-5/checkpoint-20500/config.json\n",
            "Configuration saved in /content/gdrive/MyDrive/Colab Notebooks/CSC8637/models/gpt2_2e-5/checkpoint-20500/generation_config.json\n",
            "Model weights saved in /content/gdrive/MyDrive/Colab Notebooks/CSC8637/models/gpt2_2e-5/checkpoint-20500/pytorch_model.bin\n",
            "Saving model checkpoint to /content/gdrive/MyDrive/Colab Notebooks/CSC8637/models/gpt2_2e-5/checkpoint-21000\n",
            "Configuration saved in /content/gdrive/MyDrive/Colab Notebooks/CSC8637/models/gpt2_2e-5/checkpoint-21000/config.json\n",
            "Configuration saved in /content/gdrive/MyDrive/Colab Notebooks/CSC8637/models/gpt2_2e-5/checkpoint-21000/generation_config.json\n",
            "Model weights saved in /content/gdrive/MyDrive/Colab Notebooks/CSC8637/models/gpt2_2e-5/checkpoint-21000/pytorch_model.bin\n",
            "Saving model checkpoint to /content/gdrive/MyDrive/Colab Notebooks/CSC8637/models/gpt2_2e-5/checkpoint-21500\n",
            "Configuration saved in /content/gdrive/MyDrive/Colab Notebooks/CSC8637/models/gpt2_2e-5/checkpoint-21500/config.json\n",
            "Configuration saved in /content/gdrive/MyDrive/Colab Notebooks/CSC8637/models/gpt2_2e-5/checkpoint-21500/generation_config.json\n",
            "Model weights saved in /content/gdrive/MyDrive/Colab Notebooks/CSC8637/models/gpt2_2e-5/checkpoint-21500/pytorch_model.bin\n",
            "Saving model checkpoint to /content/gdrive/MyDrive/Colab Notebooks/CSC8637/models/gpt2_2e-5/checkpoint-22000\n",
            "Configuration saved in /content/gdrive/MyDrive/Colab Notebooks/CSC8637/models/gpt2_2e-5/checkpoint-22000/config.json\n",
            "Configuration saved in /content/gdrive/MyDrive/Colab Notebooks/CSC8637/models/gpt2_2e-5/checkpoint-22000/generation_config.json\n",
            "Model weights saved in /content/gdrive/MyDrive/Colab Notebooks/CSC8637/models/gpt2_2e-5/checkpoint-22000/pytorch_model.bin\n",
            "Saving model checkpoint to /content/gdrive/MyDrive/Colab Notebooks/CSC8637/models/gpt2_2e-5/checkpoint-22500\n",
            "Configuration saved in /content/gdrive/MyDrive/Colab Notebooks/CSC8637/models/gpt2_2e-5/checkpoint-22500/config.json\n",
            "Configuration saved in /content/gdrive/MyDrive/Colab Notebooks/CSC8637/models/gpt2_2e-5/checkpoint-22500/generation_config.json\n",
            "Model weights saved in /content/gdrive/MyDrive/Colab Notebooks/CSC8637/models/gpt2_2e-5/checkpoint-22500/pytorch_model.bin\n",
            "Saving model checkpoint to /content/gdrive/MyDrive/Colab Notebooks/CSC8637/models/gpt2_2e-5/checkpoint-23000\n",
            "Configuration saved in /content/gdrive/MyDrive/Colab Notebooks/CSC8637/models/gpt2_2e-5/checkpoint-23000/config.json\n",
            "Configuration saved in /content/gdrive/MyDrive/Colab Notebooks/CSC8637/models/gpt2_2e-5/checkpoint-23000/generation_config.json\n",
            "Model weights saved in /content/gdrive/MyDrive/Colab Notebooks/CSC8637/models/gpt2_2e-5/checkpoint-23000/pytorch_model.bin\n",
            "Saving model checkpoint to /content/gdrive/MyDrive/Colab Notebooks/CSC8637/models/gpt2_2e-5/checkpoint-23500\n",
            "Configuration saved in /content/gdrive/MyDrive/Colab Notebooks/CSC8637/models/gpt2_2e-5/checkpoint-23500/config.json\n",
            "Configuration saved in /content/gdrive/MyDrive/Colab Notebooks/CSC8637/models/gpt2_2e-5/checkpoint-23500/generation_config.json\n",
            "Model weights saved in /content/gdrive/MyDrive/Colab Notebooks/CSC8637/models/gpt2_2e-5/checkpoint-23500/pytorch_model.bin\n",
            "Saving model checkpoint to /content/gdrive/MyDrive/Colab Notebooks/CSC8637/models/gpt2_2e-5/checkpoint-24000\n",
            "Configuration saved in /content/gdrive/MyDrive/Colab Notebooks/CSC8637/models/gpt2_2e-5/checkpoint-24000/config.json\n",
            "Configuration saved in /content/gdrive/MyDrive/Colab Notebooks/CSC8637/models/gpt2_2e-5/checkpoint-24000/generation_config.json\n",
            "Model weights saved in /content/gdrive/MyDrive/Colab Notebooks/CSC8637/models/gpt2_2e-5/checkpoint-24000/pytorch_model.bin\n",
            "Saving model checkpoint to /content/gdrive/MyDrive/Colab Notebooks/CSC8637/models/gpt2_2e-5/checkpoint-24500\n",
            "Configuration saved in /content/gdrive/MyDrive/Colab Notebooks/CSC8637/models/gpt2_2e-5/checkpoint-24500/config.json\n",
            "Configuration saved in /content/gdrive/MyDrive/Colab Notebooks/CSC8637/models/gpt2_2e-5/checkpoint-24500/generation_config.json\n",
            "Model weights saved in /content/gdrive/MyDrive/Colab Notebooks/CSC8637/models/gpt2_2e-5/checkpoint-24500/pytorch_model.bin\n",
            "Saving model checkpoint to /content/gdrive/MyDrive/Colab Notebooks/CSC8637/models/gpt2_2e-5/checkpoint-25000\n",
            "Configuration saved in /content/gdrive/MyDrive/Colab Notebooks/CSC8637/models/gpt2_2e-5/checkpoint-25000/config.json\n",
            "Configuration saved in /content/gdrive/MyDrive/Colab Notebooks/CSC8637/models/gpt2_2e-5/checkpoint-25000/generation_config.json\n",
            "Model weights saved in /content/gdrive/MyDrive/Colab Notebooks/CSC8637/models/gpt2_2e-5/checkpoint-25000/pytorch_model.bin\n",
            "\n",
            "\n",
            "Training completed. Do not forget to share your model on huggingface.co/models =)\n",
            "\n",
            "\n"
          ]
        },
        {
          "output_type": "execute_result",
          "data": {
            "text/plain": [
              "TrainOutput(global_step=25203, training_loss=3.7043542712471607, metrics={'train_runtime': 6525.5237, 'train_samples_per_second': 123.585, 'train_steps_per_second': 3.862, 'total_flos': 6.279436939906944e+16, 'train_loss': 3.7043542712471607, 'epoch': 3.0})"
            ]
          },
          "metadata": {},
          "execution_count": 18
        }
      ]
    },
    {
      "cell_type": "code",
      "source": [
        "# Save the model\n",
        "trainer.save_model()"
      ],
      "metadata": {
        "colab": {
          "base_uri": "https://localhost:8080/"
        },
        "id": "b6ucdMhQr9OW",
        "outputId": "e79e643e-792b-4c02-ec9a-4dfac260b80d"
      },
      "execution_count": null,
      "outputs": [
        {
          "output_type": "stream",
          "name": "stderr",
          "text": [
            "Saving model checkpoint to /content/gdrive/MyDrive/Colab Notebooks/CSC8637/models/gpt2_2e-5\n",
            "Configuration saved in /content/gdrive/MyDrive/Colab Notebooks/CSC8637/models/gpt2_2e-5/config.json\n",
            "Configuration saved in /content/gdrive/MyDrive/Colab Notebooks/CSC8637/models/gpt2_2e-5/generation_config.json\n",
            "Model weights saved in /content/gdrive/MyDrive/Colab Notebooks/CSC8637/models/gpt2_2e-5/pytorch_model.bin\n"
          ]
        }
      ]
    },
    {
      "cell_type": "markdown",
      "source": [
        "## Generate Text"
      ],
      "metadata": {
        "id": "AhSu8WUMvOzy"
      }
    },
    {
      "cell_type": "code",
      "source": [
        "# Create the generator\n",
        "generator = pipeline('text-generation', tokenizer='gpt2', model='/content/gdrive/MyDrive/Colab Notebooks/CSC8637/models/gpt2')"
      ],
      "metadata": {
        "colab": {
          "base_uri": "https://localhost:8080/",
          "height": 217,
          "referenced_widgets": [
            "a1389edf35ee488597ace3b0256a280f",
            "3f204c5f798445dd8f3684f2b5ac847e",
            "b5bd943e67ee4b1e857aa284dfd5d9c0",
            "76c7fea885e64c0dadb49d20f4f9e325",
            "613f9322f3bd45b7bd77355ccc88657c",
            "2a23b8285a034e8ab017c03dd3294357",
            "426c10005d544e46a6c90e962a7e0f7d",
            "deca504b28ea4be6ab111ace5a9e7996",
            "d93dbaa8b4f84a4085a2aeaa30ce585c",
            "e13ec2b87b26425ba15b495a141d9fdd",
            "a20dc0005a59456f989ff87148d206b5",
            "f842ed6fa3634881a2ce0f6f52e25eff",
            "32208b1209a44dc580d423f49d39f0ff",
            "0e98dfc1a29247798854beaac0b6d08e",
            "8093f8b8b8a142f6aab27980875ace9a",
            "d7a03242ca824ce5a87f1573cf069e44",
            "78c1b9b34feb4c38b69be88477cd289c",
            "0959eac36fd849bb99c6cd206d30272a",
            "a0aa0a3ac45e41128fb2749dc60186d3",
            "fcdda504bd9e48759092923c3b639fd9",
            "6d363b922571411a91e6f9cc7eb37a76",
            "9715d5b0de7b48fdb6f556ddcb4d1173",
            "e0ba157bf2b04d4da77bca350344597c",
            "0d714e86b10f45489fef47b702ea3c82",
            "787ad04634c94d2787affe9b496e8c91",
            "e8635c5db62a41b6962db2b41833b49c",
            "060e6601f39a4740974941790725cc28",
            "b4ecf9036b594727b2ea60c641270a7c",
            "633c922d63564a7b848b7b6b6d45a300",
            "680e1b9f5c9e4330a89ec0c0efec8b82",
            "9e0b26cb75034624af9f25ff7517f41e",
            "5fd774b8b6c1420d867e8e76e5ed7e2b",
            "fb809e7d14fd4fa697b98494cded9e86",
            "ca627a3ef59e4ca6b2ae475a00af1bb2",
            "6505554f1a53463987a582d0664f5ff4",
            "9e2a1caa92294359ad52129c6d6bd4e7",
            "46dd2d9ba0044304a94af6621ec5e321",
            "8381407d78c647319bfdedbaab4a0637",
            "8e1235a35e434a35895061b84153720c",
            "d79829a8c1d94932bb6c13c147d28464",
            "0a13f22407bb49b096eb0d98e392ebc7",
            "27f72105ae8d4f4f88971369c6c7f0c3",
            "6ecd64e380ad4253932c157bfcd8d587",
            "39e5ed9ac0cc4567856c657aa4f6e690"
          ]
        },
        "id": "NKsi8cPlr-8G",
        "outputId": "9a90a94c-eaa6-41f6-b238-4125a302e3d7"
      },
      "execution_count": null,
      "outputs": [
        {
          "output_type": "stream",
          "name": "stderr",
          "text": [
            "Some weights of the model checkpoint at /content/gdrive/MyDrive/Colab Notebooks/CSC8637/models/gpt2 were not used when initializing GPT2LMHeadModel: ['lstm1.bias_hh_l0', 'fc.bias', 'lstm2.bias_hh_l0', 'lstm1.weight_hh_l0', 'lstm2.weight_ih_l0', 'lstm1.weight_ih_l0', 'lstm2.bias_ih_l0', 'fc.weight', 'lstm1.bias_ih_l0', 'lstm2.weight_hh_l0']\n",
            "- This IS expected if you are initializing GPT2LMHeadModel from the checkpoint of a model trained on another task or with another architecture (e.g. initializing a BertForSequenceClassification model from a BertForPreTraining model).\n",
            "- This IS NOT expected if you are initializing GPT2LMHeadModel from the checkpoint of a model that you expect to be exactly identical (initializing a BertForSequenceClassification model from a BertForSequenceClassification model).\n"
          ]
        },
        {
          "output_type": "display_data",
          "data": {
            "text/plain": [
              "Downloading (…)lve/main/config.json:   0%|          | 0.00/665 [00:00<?, ?B/s]"
            ],
            "application/vnd.jupyter.widget-view+json": {
              "version_major": 2,
              "version_minor": 0,
              "model_id": "a1389edf35ee488597ace3b0256a280f"
            }
          },
          "metadata": {}
        },
        {
          "output_type": "display_data",
          "data": {
            "text/plain": [
              "Downloading (…)olve/main/vocab.json:   0%|          | 0.00/1.04M [00:00<?, ?B/s]"
            ],
            "application/vnd.jupyter.widget-view+json": {
              "version_major": 2,
              "version_minor": 0,
              "model_id": "f842ed6fa3634881a2ce0f6f52e25eff"
            }
          },
          "metadata": {}
        },
        {
          "output_type": "display_data",
          "data": {
            "text/plain": [
              "Downloading (…)olve/main/merges.txt:   0%|          | 0.00/456k [00:00<?, ?B/s]"
            ],
            "application/vnd.jupyter.widget-view+json": {
              "version_major": 2,
              "version_minor": 0,
              "model_id": "e0ba157bf2b04d4da77bca350344597c"
            }
          },
          "metadata": {}
        },
        {
          "output_type": "display_data",
          "data": {
            "text/plain": [
              "Downloading (…)/main/tokenizer.json:   0%|          | 0.00/1.36M [00:00<?, ?B/s]"
            ],
            "application/vnd.jupyter.widget-view+json": {
              "version_major": 2,
              "version_minor": 0,
              "model_id": "ca627a3ef59e4ca6b2ae475a00af1bb2"
            }
          },
          "metadata": {}
        }
      ]
    },
    {
      "cell_type": "code",
      "source": [
        "#Example prompts to be inserted in ' ' below:\n",
        "#My only thought was to hide\n",
        "#She shook her head emphatically\n",
        "#handle it wisely\n",
        "#At first, of course, you will rebel.\n",
        "#I was smart enough to fool all the so-called brains of the Solar System\n",
        "#They should never have trusted me.\n",
        "\n",
        "print(generator(\"\"\"If you missed the train I'm on\n",
        "You will know that I am gone\n",
        "You can hear the whistle blow a hundred miles\n",
        "A hundred miles, a hundred miles\n",
        "A hundred miles, a hundred miles\n",
        "You can hear the whistle blow a hundred miles\n",
        "Lord, I'm one, Lord, I'm two\n",
        "Lord, I'm three, Lord, I'm four\n",
        "…\"\"\", max_length=200)[0]['generated_text'])"
      ],
      "metadata": {
        "colab": {
          "base_uri": "https://localhost:8080/"
        },
        "id": "mH6TjuTwsDP0",
        "outputId": "d06d84d6-3b82-4805-c023-75fd445a8057"
      },
      "execution_count": null,
      "outputs": [
        {
          "output_type": "stream",
          "name": "stderr",
          "text": [
            "Setting `pad_token_id` to `eos_token_id`:50256 for open-end generation.\n"
          ]
        },
        {
          "output_type": "stream",
          "name": "stdout",
          "text": [
            "If you missed the train I'm on\n",
            "You will know that I am gone\n",
            "You can hear the whistle blow a hundred miles\n",
            "A hundred miles, a hundred miles\n",
            "A hundred miles, a hundred miles\n",
            "You can hear the whistle blow a hundred miles\n",
            "Lord, I'm one, Lord, I'm two\n",
            "Lord, I'm three, Lord, I'm four\n",
            "… and you know it and you are a different thing than I am.\" His cheeks had begun bleeding. \"Lord, what can I do? I never knew how to make love and I never knew how to make love.\" \"You have a girl with you that you want to have. You do not have to know it or know why it is. You are not a little girl and the way the boy wants to have is you, the way he thinks you want to have.\" \"What about the girl?\" \"She wants to have me,\" said Grom, \"we are going somewhere and the other day\n"
          ]
        }
      ]
    },
    {
      "cell_type": "markdown",
      "source": [
        "**The llamas stole all my honey.** I told them.\" It took several months for the llamas to show up alive in Luna City, but they did. During each of those months, the old Llama was still around, waiting by the river for the sun to set. The river was not hot enough to swim and the Llama did not mind the sight, even if it meant drowning. The first Llamar had caught a wind to go on a run, and had pulled itself into a shallow pool where the water ran deep into a black crevice. The old Llamar had lived a hundred and fifty years at one of the few lakes that were still alive. The great, deeplung black lake had given birth to a pair of longlegged Llamaras, each a pair of wings. At first there seemed to be little difference in appearance to the giant reptiles, but the Llairs had developed to a form."
      ],
      "metadata": {
        "id": "y0_ARcXd378A"
      }
    },
    {
      "cell_type": "markdown",
      "source": [
        "**At first, of course, you will rebel.** But after a few days of intensive training, you will realize that it is not only a question of fighting, but of gaining experience to give yourself a new tool to fight.\" He was a very young man, but he thought of this, thought of its value as an opportunity. He wished he had a new idea. \"To have a chance, if you will excuse me, to go up and put us in touch with some of the best men ever to make interstellar space flight possible.\" \"Thank you, sir.\" The ambassador was very angry. He waved and strode away. A few minutes later, the ship came to a landing on a blackened, empty world. From it he could see four of the crewmen floating in the dimlylit room beneath a high, dark dome below the window. The man standing in the doorway said: \"There is a message waiting for me.\" \"Ah. There it is.\""
      ],
      "metadata": {
        "id": "WKgoycMP4D3g"
      }
    }
  ]
}